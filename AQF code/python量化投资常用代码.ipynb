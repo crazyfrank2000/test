{
 "cells": [
  {
   "cell_type": "markdown",
   "metadata": {},
   "source": [
    "# Python量化核心公式及语法"
   ]
  },
  {
   "cell_type": "markdown",
   "metadata": {},
   "source": [
    "声明：本资料仅限内部研究和交流使用，切勿外传。谢谢！--金程教育"
   ]
  },
  {
   "cell_type": "markdown",
   "metadata": {},
   "source": [
    "## 1. 使用方法说明\n",
    "\n",
    "  手册内容分为python编程核心、Numpy、Pandas三大部分，涵盖量化交易策略研究及回测编程中使用的核心python代码。  \n",
    "  手册编写时使用python及相关模块版本：\n",
    "- python：python3.6.1\n",
    "- numpy：numpy1.13.3\n",
    "- pandas: pandas0.20.3\n",
    "\n",
    "\n",
    "手册使用过程中应注意一下注意事项：\n",
    "  1. 手册以代码作用进行标题命名及标题级别划分，如（1）加法表明代码作用为加法，该小节归属于2 python编程核心部分2.1基本运算符中的2.1.1算数运算符小节。可根据需要实现的需求在目录中查找相应的代码。\n",
    "  2. 在jupyter notebook中，可用`ctrl` + `f`对所需代码或需求进行查找。\n",
    "  3. 对于代码示例中的函数或方法，本手册对其运行逻辑、常用参数、常用代码示例进行了介绍，对于较容易理解的代码，其部分说明内容被进行了一定省略。如无法满足使用需求，可在notebook环境下使用help函数查看更具体的说明（运行help函数会在notebook当前cell下返回被查询对象的说明文档）。\n",
    "  "
   ]
  },
  {
   "cell_type": "markdown",
   "metadata": {},
   "source": [
    "## 2. Python编程核心"
   ]
  },
  {
   "cell_type": "markdown",
   "metadata": {},
   "source": [
    "### 2.1 基本运算符"
   ]
  },
  {
   "cell_type": "markdown",
   "metadata": {},
   "source": [
    "#### 2.1.1 算数运算符"
   ]
  },
  {
   "cell_type": "markdown",
   "metadata": {},
   "source": [
    "##### （1）加法"
   ]
  },
  {
   "cell_type": "code",
   "execution_count": 3,
   "metadata": {
    "scrolled": true
   },
   "outputs": [
    {
     "data": {
      "text/plain": [
       "6"
      ]
     },
     "execution_count": 3,
     "metadata": {},
     "output_type": "execute_result"
    }
   ],
   "source": [
    "2 + 4    "
   ]
  },
  {
   "cell_type": "markdown",
   "metadata": {},
   "source": [
    "##### （2）减法"
   ]
  },
  {
   "cell_type": "code",
   "execution_count": 4,
   "metadata": {},
   "outputs": [
    {
     "data": {
      "text/plain": [
       "-2"
      ]
     },
     "execution_count": 4,
     "metadata": {},
     "output_type": "execute_result"
    }
   ],
   "source": [
    "2 - 4    "
   ]
  },
  {
   "cell_type": "markdown",
   "metadata": {},
   "source": [
    "##### （3）乘法"
   ]
  },
  {
   "cell_type": "code",
   "execution_count": 5,
   "metadata": {},
   "outputs": [
    {
     "data": {
      "text/plain": [
       "8"
      ]
     },
     "execution_count": 5,
     "metadata": {},
     "output_type": "execute_result"
    }
   ],
   "source": [
    "2 * 4    "
   ]
  },
  {
   "cell_type": "markdown",
   "metadata": {},
   "source": [
    "##### （4）除法"
   ]
  },
  {
   "cell_type": "code",
   "execution_count": 6,
   "metadata": {},
   "outputs": [
    {
     "data": {
      "text/plain": [
       "0.5"
      ]
     },
     "execution_count": 6,
     "metadata": {},
     "output_type": "execute_result"
    }
   ],
   "source": [
    "2 / 4    "
   ]
  },
  {
   "cell_type": "markdown",
   "metadata": {},
   "source": [
    "##### （5）取余数"
   ]
  },
  {
   "cell_type": "code",
   "execution_count": 7,
   "metadata": {},
   "outputs": [
    {
     "data": {
      "text/plain": [
       "3"
      ]
     },
     "execution_count": 7,
     "metadata": {},
     "output_type": "execute_result"
    }
   ],
   "source": [
    "7 % 4    # 返回除法余数"
   ]
  },
  {
   "cell_type": "markdown",
   "metadata": {},
   "source": [
    "##### （6）整数除法"
   ]
  },
  {
   "cell_type": "code",
   "execution_count": 8,
   "metadata": {},
   "outputs": [
    {
     "data": {
      "text/plain": [
       "1"
      ]
     },
     "execution_count": 8,
     "metadata": {},
     "output_type": "execute_result"
    }
   ],
   "source": [
    "7 // 4    # 整数除法，返回不大于结果的一个最大的整数"
   ]
  },
  {
   "cell_type": "markdown",
   "metadata": {},
   "source": [
    "##### （7）乘方"
   ]
  },
  {
   "cell_type": "code",
   "execution_count": 9,
   "metadata": {},
   "outputs": [
    {
     "data": {
      "text/plain": [
       "8"
      ]
     },
     "execution_count": 9,
     "metadata": {},
     "output_type": "execute_result"
    }
   ],
   "source": [
    "2 ** 3    "
   ]
  },
  {
   "cell_type": "markdown",
   "metadata": {},
   "source": [
    "##### （8）指数运算"
   ]
  },
  {
   "cell_type": "code",
   "execution_count": null,
   "metadata": {},
   "outputs": [],
   "source": [
    "import math\n",
    "math.exp(3)   # 返回输入数字的指数"
   ]
  },
  {
   "cell_type": "markdown",
   "metadata": {},
   "source": [
    "##### （9）对数运算"
   ]
  },
  {
   "cell_type": "code",
   "execution_count": null,
   "metadata": {},
   "outputs": [],
   "source": [
    "import math\n",
    "math.log(10)    # 取自然对数"
   ]
  },
  {
   "cell_type": "markdown",
   "metadata": {},
   "source": [
    "---\n",
    "\n",
    "#### 2.1.2 比较运算符"
   ]
  },
  {
   "cell_type": "markdown",
   "metadata": {},
   "source": [
    "##### （10）小于"
   ]
  },
  {
   "cell_type": "code",
   "execution_count": null,
   "metadata": {},
   "outputs": [],
   "source": [
    "3 < 8     # 小于，返回bool值"
   ]
  },
  {
   "cell_type": "markdown",
   "metadata": {},
   "source": [
    "##### （11）小于等于"
   ]
  },
  {
   "cell_type": "code",
   "execution_count": null,
   "metadata": {},
   "outputs": [],
   "source": [
    "3 <= 8    # 小于等于，返回bool值"
   ]
  },
  {
   "cell_type": "markdown",
   "metadata": {},
   "source": [
    "##### （12）大于"
   ]
  },
  {
   "cell_type": "code",
   "execution_count": null,
   "metadata": {},
   "outputs": [],
   "source": [
    "3 > 8     # 大于，返回bool值"
   ]
  },
  {
   "cell_type": "markdown",
   "metadata": {},
   "source": [
    "##### （13）大于等于 "
   ]
  },
  {
   "cell_type": "code",
   "execution_count": null,
   "metadata": {},
   "outputs": [],
   "source": [
    "3 >= 8    # 大于等于，返回bool值"
   ]
  },
  {
   "cell_type": "markdown",
   "metadata": {},
   "source": [
    "##### （14）相等"
   ]
  },
  {
   "cell_type": "code",
   "execution_count": null,
   "metadata": {},
   "outputs": [],
   "source": [
    "3 == 8    # 判断是否相等，返回bool值"
   ]
  },
  {
   "cell_type": "markdown",
   "metadata": {},
   "source": [
    "##### （15）不等"
   ]
  },
  {
   "cell_type": "code",
   "execution_count": null,
   "metadata": {
    "scrolled": true
   },
   "outputs": [],
   "source": [
    "3 != 8    # 判断是否不等， 返回bool值"
   ]
  },
  {
   "cell_type": "markdown",
   "metadata": {},
   "source": [
    "---\n",
    "\n",
    "#### 2.1.3 逻辑运算"
   ]
  },
  {
   "cell_type": "markdown",
   "metadata": {},
   "source": [
    "##### （16）逻辑且"
   ]
  },
  {
   "cell_type": "code",
   "execution_count": null,
   "metadata": {},
   "outputs": [],
   "source": [
    "True and False    # 返回bool值"
   ]
  },
  {
   "cell_type": "markdown",
   "metadata": {},
   "source": [
    "##### （17）逻辑或"
   ]
  },
  {
   "cell_type": "code",
   "execution_count": null,
   "metadata": {},
   "outputs": [],
   "source": [
    "True or False     # 返回bool值"
   ]
  },
  {
   "cell_type": "markdown",
   "metadata": {},
   "source": [
    "##### （18）逻辑非"
   ]
  },
  {
   "cell_type": "code",
   "execution_count": null,
   "metadata": {},
   "outputs": [],
   "source": [
    "not True          # 返回bool值"
   ]
  },
  {
   "cell_type": "markdown",
   "metadata": {},
   "source": [
    "---\n",
    "\n",
    "#### 2.1.4 变量赋值与使用"
   ]
  },
  {
   "cell_type": "markdown",
   "metadata": {},
   "source": [
    "##### （19）等号赋值"
   ]
  },
  {
   "cell_type": "markdown",
   "metadata": {},
   "source": [
    "将数值、字符串、列表等赋值给一个变量名"
   ]
  },
  {
   "cell_type": "code",
   "execution_count": null,
   "metadata": {},
   "outputs": [],
   "source": [
    "a = 1"
   ]
  },
  {
   "cell_type": "markdown",
   "metadata": {},
   "source": [
    "##### （20）被赋值变量使用"
   ]
  },
  {
   "cell_type": "code",
   "execution_count": null,
   "metadata": {},
   "outputs": [],
   "source": [
    "a"
   ]
  },
  {
   "cell_type": "markdown",
   "metadata": {},
   "source": [
    "---\n",
    "\n",
    "### 2.2 基本数据类型操作"
   ]
  },
  {
   "cell_type": "markdown",
   "metadata": {},
   "source": [
    "#### 2.2.1 字符串操作"
   ]
  },
  {
   "cell_type": "markdown",
   "metadata": {},
   "source": [
    "##### （21）字符串创建1\n",
    "通过单引号创建字符串"
   ]
  },
  {
   "cell_type": "code",
   "execution_count": null,
   "metadata": {},
   "outputs": [],
   "source": [
    "st = 'Hello, World!'"
   ]
  },
  {
   "cell_type": "markdown",
   "metadata": {},
   "source": [
    "##### （22）字符串创建\n",
    "通过双引号创建字符串"
   ]
  },
  {
   "cell_type": "code",
   "execution_count": null,
   "metadata": {},
   "outputs": [],
   "source": [
    "st = \"Hello, World!\""
   ]
  },
  {
   "cell_type": "markdown",
   "metadata": {},
   "source": [
    "##### （23）字符串索引\n",
    "通过位置获得字符串中某个字符。  \n",
    "\n",
    "索引位置为正表示从左向右寻找字符，索引位置为负表示从右向左寻找字符。"
   ]
  },
  {
   "cell_type": "code",
   "execution_count": null,
   "metadata": {},
   "outputs": [],
   "source": [
    "st = 'Hello, World!'    # 创建字符串\n",
    "st[2]                   # 进行索引，获取位置为2的字符，对应字母'l'"
   ]
  },
  {
   "cell_type": "markdown",
   "metadata": {},
   "source": [
    "##### （24）字符串切片\n",
    "通过位置获取字符串中某个子字符串。\n",
    "\n",
    "string[a:b]表示获取从位置a开始到位置b为止之间的子字符串。  \n",
    "string[a:] 表示获取从位置a开始到字符串末尾所有字符的子字符串。  \n",
    "string[:b] 表示获取从字符串开头到位置b为止之间所有字符的子字符串。  \n",
    "string[:] 表示复制原字符串。  "
   ]
  },
  {
   "cell_type": "code",
   "execution_count": null,
   "metadata": {},
   "outputs": [],
   "source": [
    "st = 'Hello, World!'    # 创建字符串\n",
    "st[2 : 4]               # 进行索引"
   ]
  },
  {
   "cell_type": "markdown",
   "metadata": {},
   "source": [
    "##### （25）字符串合并1\n",
    "\n",
    "使用'+'号将多个字符串合并成1个字符串"
   ]
  },
  {
   "cell_type": "code",
   "execution_count": null,
   "metadata": {},
   "outputs": [],
   "source": [
    "'Hello '+'World' + ' and Python!'    "
   ]
  },
  {
   "cell_type": "markdown",
   "metadata": {},
   "source": [
    "##### （26）字符串合并2\n",
    "通过字符串'join'方法使用指定字符串连接多个字符串成一个字符串。"
   ]
  },
  {
   "cell_type": "code",
   "execution_count": null,
   "metadata": {},
   "outputs": [],
   "source": [
    "'##'.join(['Hello', 'World'])"
   ]
  },
  {
   "cell_type": "markdown",
   "metadata": {},
   "source": [
    "##### （27）字符串去掉首尾特殊字符\n",
    "通过字符串'strip'方法去掉字符串首尾特殊字符，默认去除'\\n'。\n",
    "\n",
    "通过open函数打开并读取文件时常用。  "
   ]
  },
  {
   "cell_type": "code",
   "execution_count": null,
   "metadata": {},
   "outputs": [],
   "source": [
    "'\\nHello world\\n'.strip()"
   ]
  },
  {
   "cell_type": "markdown",
   "metadata": {},
   "source": [
    "##### （28）字符串拆分"
   ]
  },
  {
   "cell_type": "markdown",
   "metadata": {},
   "source": [
    "通过字符串'split'方法根据某一字符对字符串进行拆分，并以字符串组成的列表形式返回。分隔用字符默认为'\\t'。  \n",
    "\n",
    "通过open函数打开并读取文件时常用。"
   ]
  },
  {
   "cell_type": "code",
   "execution_count": null,
   "metadata": {
    "scrolled": false
   },
   "outputs": [],
   "source": [
    "'Hello\\tWorld'.split()    "
   ]
  },
  {
   "cell_type": "markdown",
   "metadata": {},
   "source": [
    "##### （29）字符串内查找子字符串1"
   ]
  },
  {
   "cell_type": "markdown",
   "metadata": {},
   "source": [
    "通过字符串'find'方法获得子字符串首次出现在字符串中的位置，如果未发现将返回-1。"
   ]
  },
  {
   "cell_type": "code",
   "execution_count": null,
   "metadata": {},
   "outputs": [],
   "source": [
    "'Hello'.find('World')"
   ]
  },
  {
   "cell_type": "markdown",
   "metadata": {},
   "source": [
    "##### （30）字符串内查找子字符串2\n",
    "\n",
    "通过'in'判断小字符串是否为大字符串的子字符串，返回bool值。"
   ]
  },
  {
   "cell_type": "code",
   "execution_count": null,
   "metadata": {},
   "outputs": [],
   "source": [
    "'Hello' in 'Hello, world!'"
   ]
  },
  {
   "cell_type": "markdown",
   "metadata": {},
   "source": [
    "##### （31）子字符串替换"
   ]
  },
  {
   "cell_type": "markdown",
   "metadata": {},
   "source": [
    "通过字符串'replace'方法将子字符串替代为新字符串，返回完成替代后的新字符串。"
   ]
  },
  {
   "cell_type": "code",
   "execution_count": null,
   "metadata": {},
   "outputs": [],
   "source": [
    "'Hello! world!'.replace('!', '!!!')"
   ]
  },
  {
   "cell_type": "markdown",
   "metadata": {},
   "source": [
    "---\n",
    "\n",
    "#### 2.2.2 元组操作"
   ]
  },
  {
   "cell_type": "markdown",
   "metadata": {},
   "source": [
    "##### （32）创建元组"
   ]
  },
  {
   "cell_type": "code",
   "execution_count": null,
   "metadata": {},
   "outputs": [],
   "source": [
    "tup = (1, 2, 3)    "
   ]
  },
  {
   "cell_type": "markdown",
   "metadata": {},
   "source": [
    "##### （33）元组解包"
   ]
  },
  {
   "cell_type": "markdown",
   "metadata": {},
   "source": [
    "通过元组解包将元组中元素分别赋值给多个变量名。"
   ]
  },
  {
   "cell_type": "code",
   "execution_count": null,
   "metadata": {},
   "outputs": [],
   "source": [
    "a, b, c = (1, 2, 3)      # 元组解包\n",
    "\n",
    "print(a, b, c)           # 打印被赋值变量名"
   ]
  },
  {
   "cell_type": "markdown",
   "metadata": {},
   "source": [
    "---\n",
    "\n",
    "#### 2.2.3 列表操作"
   ]
  },
  {
   "cell_type": "markdown",
   "metadata": {},
   "source": [
    "##### （34）创建列表\n",
    "**注意，以下字母l均为字母L的小写**"
   ]
  },
  {
   "cell_type": "code",
   "execution_count": null,
   "metadata": {},
   "outputs": [],
   "source": [
    "l = [1, 2, 3, 4]"
   ]
  },
  {
   "cell_type": "markdown",
   "metadata": {},
   "source": [
    "##### （35）列表索引\n",
    "通过位置获得列表中某个元素。  \n",
    "\n",
    "索引位置为正表示从左向右寻找元素，索引位置为负表示从右向左寻找元素。\n",
    "\n"
   ]
  },
  {
   "cell_type": "code",
   "execution_count": null,
   "metadata": {},
   "outputs": [],
   "source": [
    "l = [1, 2, 3, 4]           # 创建列表并赋值给变量名l\n",
    "\n",
    "l[2]                       # 进行列表索引"
   ]
  },
  {
   "cell_type": "markdown",
   "metadata": {},
   "source": [
    "##### （36）列表切片\n",
    "通过位置获取列表某个子列表。\n",
    "\n",
    "list[a:b]表示获取从位置a开始到位置b为止之间的子列表,不含b位置元素。  \n",
    "list[a:] 表示获取从位置a开始到列表末尾所有元素的子列表。  \n",
    "list[:b] 表示获取从列表开头到位置b为止之间所有元素的子列表，不含b位置元素。  \n",
    "list[a:b:s]表示以步长为s获取从位置a开始到位置b为止之间的子列表，不含b位置元素。   \n",
    "list[:] 表示复制原列表。  "
   ]
  },
  {
   "cell_type": "code",
   "execution_count": null,
   "metadata": {},
   "outputs": [],
   "source": [
    "l = [1, 2, 3, 4, 5, 6]     # 创建列表并赋值给变量名l\n",
    "\n",
    "l[1:5]                     # 进行列表切片"
   ]
  },
  {
   "cell_type": "markdown",
   "metadata": {},
   "source": [
    "##### （37）列表添加值\n",
    "通过列表'append'方法在列表末尾添加一个元素。"
   ]
  },
  {
   "cell_type": "code",
   "execution_count": null,
   "metadata": {},
   "outputs": [],
   "source": [
    "l = [1, 2, 3, 4]        # 创建列表并赋值给变量名l\n",
    "\n",
    "l.append(5)             # 列表末尾添加一个值\n",
    "l"
   ]
  },
  {
   "cell_type": "markdown",
   "metadata": {},
   "source": [
    "#####  （38）列表添加多个值\n",
    "通过列表'extend'方法在列表末尾添加多个值。"
   ]
  },
  {
   "cell_type": "code",
   "execution_count": null,
   "metadata": {},
   "outputs": [],
   "source": [
    "l = [1, 2, 3, 4]        # 创建列表并赋值给变量名l\n",
    "\n",
    "l.extend((111, 111))     # 列表末尾添加多个值\n",
    "l"
   ]
  },
  {
   "cell_type": "markdown",
   "metadata": {},
   "source": [
    "##### （39）列表指定位置添加值\n",
    "通过列表'insert'方法在列表指定位置添加某一个元素。"
   ]
  },
  {
   "cell_type": "code",
   "execution_count": null,
   "metadata": {},
   "outputs": [],
   "source": [
    "l = [1, 2, 3, 4]         # 创建列表并赋值给变量名l\n",
    "\n",
    "l.insert(2, 'insert')    # 列表指定位置添加一个值\n",
    "l"
   ]
  },
  {
   "cell_type": "markdown",
   "metadata": {},
   "source": [
    "##### （40）列表删除元素1\n",
    "通过列表'remove'方法根据元素的值进行删除。"
   ]
  },
  {
   "cell_type": "code",
   "execution_count": null,
   "metadata": {},
   "outputs": [],
   "source": [
    "l = [1, 2, 'insert', 3, 4]         # 创建列表并赋值给变量名l\n",
    "\n",
    "l.remove('insert')                 # 从列表删除某值\n",
    "l"
   ]
  },
  {
   "cell_type": "markdown",
   "metadata": {},
   "source": [
    "##### （41）列表删除元素2\n",
    "\n",
    "根据列表索引或切片使用'del'对列表中元素进行删除。可同时删除多个值。"
   ]
  },
  {
   "cell_type": "code",
   "execution_count": null,
   "metadata": {
    "scrolled": true
   },
   "outputs": [],
   "source": [
    "l = [1, 2, 3, 4]         # 创建列表并赋值给变量名l\n",
    "\n",
    "del l[0:2]               # 从列表中删除元素\n",
    "l"
   ]
  },
  {
   "cell_type": "markdown",
   "metadata": {},
   "source": [
    "---\n",
    "\n",
    "#### 2.2.4 字典操作"
   ]
  },
  {
   "cell_type": "markdown",
   "metadata": {},
   "source": [
    "##### （42）创建字典"
   ]
  },
  {
   "cell_type": "code",
   "execution_count": null,
   "metadata": {},
   "outputs": [],
   "source": [
    "dictionary = {'a':1 , 'b':2, 'c':3}"
   ]
  },
  {
   "cell_type": "markdown",
   "metadata": {},
   "source": [
    "##### （43）字典中获取值1\n",
    "根据键获取字典中相应值。"
   ]
  },
  {
   "cell_type": "code",
   "execution_count": null,
   "metadata": {},
   "outputs": [],
   "source": [
    "dictionary = {'a':1 , 'b':2, 'c':3}    # 创建字典并赋值给dictionary\n",
    "\n",
    "dictionary['a']                        # 用key从字典中获取值"
   ]
  },
  {
   "cell_type": "markdown",
   "metadata": {},
   "source": [
    "##### （44）字典中获取值2\n",
    "根据键使用字典'get'方法获取字典中相应值。若key不存在，返回第二个参数对应的值。"
   ]
  },
  {
   "cell_type": "code",
   "execution_count": null,
   "metadata": {
    "scrolled": true
   },
   "outputs": [],
   "source": [
    "dictionary = {'a':1 , 'b':2, 'c':3}    # 创建字典并赋值给dictionary\n",
    "\n",
    "dictionary.get('d', 100)               # 用key从字典中获取值"
   ]
  },
  {
   "cell_type": "markdown",
   "metadata": {},
   "source": [
    "##### （45）字典中删除某映射\n",
    "使用'del'删除映射。"
   ]
  },
  {
   "cell_type": "code",
   "execution_count": null,
   "metadata": {},
   "outputs": [],
   "source": [
    "dictionary = {'a':1 , 'b':2, 'c':3}    # 创建字典并赋值给dictionary\n",
    "\n",
    "del dictionary['a']                    # 删除映射"
   ]
  },
  {
   "cell_type": "code",
   "execution_count": null,
   "metadata": {},
   "outputs": [],
   "source": [
    "dictionary                              # 查看删除映射后的字典"
   ]
  },
  {
   "cell_type": "markdown",
   "metadata": {},
   "source": [
    "##### （46）获取字典的键\n",
    "通过字典'keys'方法获得一个可以获取字典键的迭代器。\n",
    "\n",
    "在循环中经常使用。"
   ]
  },
  {
   "cell_type": "code",
   "execution_count": null,
   "metadata": {},
   "outputs": [],
   "source": [
    "dictionary = {'a':1 , 'b':2, 'c':3}    # 创建字典并赋值给dictionary\n",
    "\n",
    "dictionary.keys()                      # 获得字典键"
   ]
  },
  {
   "cell_type": "markdown",
   "metadata": {},
   "source": [
    "##### （47）获取字典的值\n",
    "通过字典'values'方法获得一个可以获取字典值的迭代器。"
   ]
  },
  {
   "cell_type": "code",
   "execution_count": null,
   "metadata": {},
   "outputs": [],
   "source": [
    "dictionary = {'a':1 , 'b':2, 'c':3}    # 创建字典并赋值给dictionary\n",
    "\n",
    "dictionary.values()                    # 获得字典值"
   ]
  },
  {
   "cell_type": "markdown",
   "metadata": {},
   "source": [
    "##### （48）获取字典的键值组合\n",
    "通过字典'items'函数获得一个可以获得字典键值组合的迭代器。\n",
    "\n",
    "在循环中经常使用。"
   ]
  },
  {
   "cell_type": "code",
   "execution_count": null,
   "metadata": {
    "scrolled": true
   },
   "outputs": [],
   "source": [
    "dictionary = {'a':1 , 'b':2, 'c':3}    # 创建字典并赋值给dictionary\n",
    "\n",
    "dictionary.items()                     # 获取键值组合"
   ]
  },
  {
   "cell_type": "markdown",
   "metadata": {},
   "source": [
    "---\n",
    "\n",
    "### 2.3 控制结构"
   ]
  },
  {
   "cell_type": "markdown",
   "metadata": {},
   "source": [
    "#### 2.3.1 分支结构"
   ]
  },
  {
   "cell_type": "markdown",
   "metadata": {},
   "source": [
    "##### （49）分支结构if\n",
    "\n",
    "    if condition1：   \n",
    "        ...  \n",
    "    elif condition2:  \n",
    "        ...  \n",
    "    elif condition 3:  \n",
    "        ...  \n",
    "    else:  \n",
    "        ...  \n",
    " \n",
    " if判断从上到下运行，当遇到第一个满足条件的判断将执行该条件下相应程序后退出if结构。"
   ]
  },
  {
   "cell_type": "code",
   "execution_count": null,
   "metadata": {},
   "outputs": [],
   "source": [
    "if 3 > 2:                # 第一个条件满足，则运行该条件下的print后直接退出if结构\n",
    "    print('3 > 2')\n",
    "elif 4 > 2:\n",
    "    print('4 > 2')\n",
    "else:\n",
    "    print('3 < 2')"
   ]
  },
  {
   "cell_type": "markdown",
   "metadata": {},
   "source": [
    "---\n",
    "#### 2.3.2 循环结构"
   ]
  },
  {
   "cell_type": "markdown",
   "metadata": {},
   "source": [
    "##### （50）循环结构while\n",
    "\n",
    "    while condition:\n",
    "        ...\n",
    " \n",
    " 运行时将不断执行循环内代码，直到condition条件为False或通过break终止循环。"
   ]
  },
  {
   "cell_type": "code",
   "execution_count": null,
   "metadata": {
    "scrolled": true
   },
   "outputs": [],
   "source": [
    "i = 0\n",
    "while i < 4:             # 当循环4次后，第五次i为4，条件不满足则跳出循环。\n",
    "    print(i)\n",
    "    i += 1"
   ]
  },
  {
   "cell_type": "markdown",
   "metadata": {},
   "source": [
    "##### （51）循环结构for\n",
    "\n",
    "    for i in iterable：\n",
    "        ...\n",
    " 运行时每次从可迭代对象中获得一个值，然后执行一次循环中代码，直到可迭代对象循环完或break终止循环。"
   ]
  },
  {
   "cell_type": "code",
   "execution_count": null,
   "metadata": {},
   "outputs": [],
   "source": [
    "for i in range(4):\n",
    "    print(i)"
   ]
  },
  {
   "cell_type": "markdown",
   "metadata": {},
   "source": [
    "---\n",
    "\n",
    "#### 2.3.3 终止循环"
   ]
  },
  {
   "cell_type": "markdown",
   "metadata": {
    "collapsed": true
   },
   "source": [
    "##### （52）break语句\n",
    "\n",
    "用于强制停止循环，然后退出循环。"
   ]
  },
  {
   "cell_type": "markdown",
   "metadata": {},
   "source": [
    "##### （53）continue语句\n",
    "\n",
    "用于循环中跳过本次循环内continue后代码的执行，直接进行下一次代码执行。"
   ]
  },
  {
   "cell_type": "markdown",
   "metadata": {},
   "source": [
    "---\n",
    "\n",
    "### 2.4 异常处理"
   ]
  },
  {
   "cell_type": "markdown",
   "metadata": {},
   "source": [
    "##### （54）异常处理结构\n",
    "\n",
    "try:  \n",
    "  ...  \n",
    "except ... :  \n",
    "  ...  \n",
    "except ... :  \n",
    "  ...  \n",
    "else:  \n",
    "  ...  \n",
    "finally:  \n",
    "  ...  \n",
    "  \n",
    "将需要监控异常的代码放在try下的代码块。   \n",
    "当try下代码块执行发生异常时，通过except捕捉异常，然后执行该except捕捉异常下的代码。except可有多个，如果except未捕捉到特定异常，则报错。  \n",
    "当try下代码块没有异常发生时，那么运行else下代码块。else下代码块只有在没有异常发生时才会运行。  \n",
    "无论try下代码块有无异常发生，都会运行finally下代码块  "
   ]
  },
  {
   "cell_type": "code",
   "execution_count": null,
   "metadata": {},
   "outputs": [],
   "source": [
    "import math\n",
    "i = 10\n",
    "\n",
    "try:\n",
    "    print(\"square root of %d is %f\" % (i, math.sqrt(i)))\n",
    "except ValueError:\n",
    "    print(\"cannot calculate square root of %d\" % i)\n",
    "except TypeError:\n",
    "    print(\"the input '%s' is not a number\" % i)\n",
    "else:  \n",
    "    print(\"simply continuing the iteration\")\n",
    "finally:  # finally是不管程序是否出错最终都会执行；\n",
    "    print(\"I am executed not matter what\\n\")"
   ]
  },
  {
   "cell_type": "markdown",
   "metadata": {},
   "source": [
    "---\n",
    "\n",
    "### 2.5 函数"
   ]
  },
  {
   "cell_type": "markdown",
   "metadata": {},
   "source": [
    "#### 2.5.1 自定义函数"
   ]
  },
  {
   "cell_type": "markdown",
   "metadata": {},
   "source": [
    "##### （55）函数定义\n",
    "通过def创建一个函数对象并赋值给一个变量名。"
   ]
  },
  {
   "cell_type": "code",
   "execution_count": null,
   "metadata": {},
   "outputs": [],
   "source": [
    "def my_function(*args, **kwargs):\n",
    "    print(*args)\n",
    "    print(dict(kwargs))\n",
    "    return None"
   ]
  },
  {
   "cell_type": "markdown",
   "metadata": {},
   "source": [
    "##### （56）匿名函数 lambda\n",
    "通过lambda定义一个简单函数。一般使用时作为参数传入其他函数使用。"
   ]
  },
  {
   "cell_type": "code",
   "execution_count": null,
   "metadata": {},
   "outputs": [],
   "source": [
    "lambda x: x**2"
   ]
  },
  {
   "cell_type": "markdown",
   "metadata": {},
   "source": [
    "##### （57）函数调用\n",
    "（所有函数，无论内置还是自定义，调用方法一致）\n",
    "对于无参数函数，在函数名后添加括号完成函数调用。  \n",
    "对于有参数函数，在函数名后括号内通过位置或关键字传递参数，然后完成函数调用。"
   ]
  },
  {
   "cell_type": "code",
   "execution_count": null,
   "metadata": {
    "scrolled": true
   },
   "outputs": [],
   "source": [
    "def my_square(n):                      # 定义一个函数\n",
    "    return n**2             \n",
    "\n",
    "my_square(10)                         # 完成函数调用"
   ]
  },
  {
   "cell_type": "markdown",
   "metadata": {},
   "source": [
    "---\n",
    "\n",
    "#### 2.5.1 内置函数"
   ]
  },
  {
   "cell_type": "markdown",
   "metadata": {},
   "source": [
    "##### （58）转化为列表list\n",
    "将可迭代对象转化为list"
   ]
  },
  {
   "cell_type": "code",
   "execution_count": null,
   "metadata": {},
   "outputs": [],
   "source": [
    "a = '1234'\n",
    "list(a)"
   ]
  },
  {
   "cell_type": "markdown",
   "metadata": {},
   "source": [
    "##### （59）转化为字典dict\n",
    "\n",
    "将可提供成对数据的对象转化为字典。"
   ]
  },
  {
   "cell_type": "code",
   "execution_count": null,
   "metadata": {},
   "outputs": [],
   "source": [
    "a = [('a',1), ('b', 2)]          # 列表a中的每一个元素都是一个包含两个元素的元组\n",
    "\n",
    "dict(a)                          # 构建字典"
   ]
  },
  {
   "cell_type": "markdown",
   "metadata": {},
   "source": [
    "##### （60）转化为字符串str"
   ]
  },
  {
   "cell_type": "code",
   "execution_count": null,
   "metadata": {},
   "outputs": [],
   "source": [
    "a = 1234\n",
    "\n",
    "str(a)                          # 将整数a转化为字符串"
   ]
  },
  {
   "cell_type": "markdown",
   "metadata": {},
   "source": [
    "##### （61）转化为整数int"
   ]
  },
  {
   "cell_type": "code",
   "execution_count": null,
   "metadata": {},
   "outputs": [],
   "source": [
    "a = 23.23\n",
    "\n",
    "int(a)                          # 将浮点数a转化为整数"
   ]
  },
  {
   "cell_type": "markdown",
   "metadata": {},
   "source": [
    "##### （62）转化为浮点数float"
   ]
  },
  {
   "cell_type": "code",
   "execution_count": null,
   "metadata": {},
   "outputs": [],
   "source": [
    "a = '23.23'\n",
    "\n",
    "float(a)                         # 将字符串a转化为浮点数"
   ]
  },
  {
   "cell_type": "markdown",
   "metadata": {},
   "source": [
    "##### （63）print\n",
    "显示传入对象。对于被赋值的变量名查看赋值对象使用print函数，该函数非常常用。"
   ]
  },
  {
   "cell_type": "code",
   "execution_count": null,
   "metadata": {},
   "outputs": [],
   "source": [
    "print('test')"
   ]
  },
  {
   "cell_type": "markdown",
   "metadata": {},
   "source": [
    "##### （64）获得对象长度 len\n",
    "对于列表、元组、ndarray等对象都有数据长度，具体含义有数据类型决定。  \n",
    "\n",
    "该函数经常在循环中与range配合使用。"
   ]
  },
  {
   "cell_type": "code",
   "execution_count": null,
   "metadata": {},
   "outputs": [],
   "source": [
    "a = [1, 2, 3, 4]\n",
    "len(a)"
   ]
  },
  {
   "cell_type": "markdown",
   "metadata": {},
   "source": [
    "##### （65）获得循环用等差数列 range\n",
    "\n",
    "返回一个迭代器。  \n",
    "range(n)返回一个可产生从0到n（不含n），步长为1数字的迭代器。  \n",
    "range(a, b, s)返回一个可产生从a到b（不含b），步长为s数字的迭代器。  \n",
    "\n",
    "该函数经常在for循环中使用。"
   ]
  },
  {
   "cell_type": "code",
   "execution_count": null,
   "metadata": {},
   "outputs": [],
   "source": [
    "range(4)"
   ]
  },
  {
   "cell_type": "code",
   "execution_count": null,
   "metadata": {},
   "outputs": [],
   "source": [
    "for i in range(4):\n",
    "    print(i)"
   ]
  },
  {
   "cell_type": "markdown",
   "metadata": {},
   "source": [
    "##### （66）反转可迭代对象顺序\n",
    "\n",
    "使用reversed函数将对象中元素顺序反转,返回一个可提供顺序反转后的迭代器。  \n",
    "该函数经常在循环中使用"
   ]
  },
  {
   "cell_type": "code",
   "execution_count": null,
   "metadata": {},
   "outputs": [],
   "source": [
    "a = [1, 2, 3, 4]               # 创建一个列表并赋值给变量名a\n",
    "\n",
    "reversed(a)                    # 顺序反转"
   ]
  },
  {
   "cell_type": "code",
   "execution_count": null,
   "metadata": {},
   "outputs": [],
   "source": [
    "for i in reversed(a):\n",
    "    print(i)"
   ]
  },
  {
   "cell_type": "markdown",
   "metadata": {},
   "source": [
    "##### （67）排序 sorted\n",
    "\n",
    "使用sorted函数将对象中的元素排序后以列表形式返回。"
   ]
  },
  {
   "cell_type": "code",
   "execution_count": null,
   "metadata": {},
   "outputs": [],
   "source": [
    "a = [1, 3, 2, 4]                 # 创建一个列表并赋值给变量名a\n",
    "\n",
    "sorted(a)                        # 排序"
   ]
  },
  {
   "cell_type": "markdown",
   "metadata": {},
   "source": [
    "##### （68）并列读取 zip\n",
    "\n",
    "使用zip函数并列读取多个可迭代对象，返回数据重新组合后的迭代器。\n",
    "\n",
    "经常在循环中使用。"
   ]
  },
  {
   "cell_type": "code",
   "execution_count": null,
   "metadata": {},
   "outputs": [],
   "source": [
    "a = [1, 2, 3, 4]                   # 创建一个列表并赋值给变量名a\n",
    "b = [4, 3, 2, 1]                   # 创建一个列表并赋值给变量名b\n",
    "\n",
    "zip(a, b)                           # 重新组合"
   ]
  },
  {
   "cell_type": "code",
   "execution_count": null,
   "metadata": {},
   "outputs": [],
   "source": [
    "for item in zip(a,b):\n",
    "    print(item)"
   ]
  },
  {
   "cell_type": "markdown",
   "metadata": {},
   "source": [
    "##### （69）可替代循环的方法 map\n",
    "\n",
    "map(func, \\*iterables)运行时将函数应用于可迭代对象中的每一个元素。如果func后的可迭代对象有多个，那么会以并行方式将可迭代对象的元素传入func函数。   \n",
    "返回一个可迭代对象。"
   ]
  },
  {
   "cell_type": "code",
   "execution_count": null,
   "metadata": {},
   "outputs": [],
   "source": [
    "map(abs, [1, -2, 3, -4])"
   ]
  },
  {
   "cell_type": "code",
   "execution_count": null,
   "metadata": {},
   "outputs": [],
   "source": [
    "list(map(abs, [1, -2, 3, -4]))"
   ]
  },
  {
   "cell_type": "markdown",
   "metadata": {},
   "source": [
    "##### （70）筛选 filter\n",
    "对可迭代对象中元素按照传入标准进行筛选，如果满足条件（即经传入筛选标判断后返回True），则保留该元素。  \n",
    "返回可执行筛选的迭代器。"
   ]
  },
  {
   "cell_type": "code",
   "execution_count": null,
   "metadata": {},
   "outputs": [],
   "source": [
    "a = filter(lambda x: x>2, [1, -2, 3, 4])\n",
    "a"
   ]
  },
  {
   "cell_type": "code",
   "execution_count": null,
   "metadata": {},
   "outputs": [],
   "source": [
    "list(a)"
   ]
  },
  {
   "cell_type": "markdown",
   "metadata": {},
   "source": [
    "##### （71）列表解析式\n",
    "类似for循环，但运行速度更快。最后生成列表。"
   ]
  },
  {
   "cell_type": "code",
   "execution_count": null,
   "metadata": {},
   "outputs": [],
   "source": [
    "[x**2 for x in range(3)]"
   ]
  },
  {
   "cell_type": "markdown",
   "metadata": {},
   "source": [
    "##### （72）打开文件open函数"
   ]
  },
  {
   "cell_type": "markdown",
   "metadata": {},
   "source": [
    "file = open(filename)"
   ]
  },
  {
   "cell_type": "markdown",
   "metadata": {},
   "source": [
    "---\n",
    "\n",
    "### 2.6 类"
   ]
  },
  {
   "cell_type": "markdown",
   "metadata": {},
   "source": [
    "##### （73）类定义\n",
    "使用class语句对类进行定义。其中，可以完成类属性、类方法的定义。"
   ]
  },
  {
   "cell_type": "code",
   "execution_count": null,
   "metadata": {},
   "outputs": [],
   "source": [
    "class test():\n",
    "    name = 'name'                               # 定义类属性name\n",
    "    def __init__(self, age):                    # 通过定义__init__函数，可以在创建实例时自动运行\n",
    "        self.age = age                          # 定义实例的属性\n",
    "        \n",
    "    def show_age(self):                         # 定义类方法\n",
    "        print('age is ',self.age)"
   ]
  },
  {
   "cell_type": "markdown",
   "metadata": {},
   "source": [
    "##### （74）创建实例\n",
    "如果创建实例时不需要参数，则通过在类名称后面加括号完成一个实例的创建。\n",
    "如果创建实例需要参数，则需要在类名称后面的括号内通过位置或关键字传递参数的方式完成实例创建。"
   ]
  },
  {
   "cell_type": "code",
   "execution_count": null,
   "metadata": {},
   "outputs": [],
   "source": [
    "class test():                                    # 定义类\n",
    "    pass\n",
    "\n",
    "instance = test()                                 # 创建实例 "
   ]
  },
  {
   "cell_type": "code",
   "execution_count": null,
   "metadata": {},
   "outputs": [],
   "source": [
    "instance"
   ]
  },
  {
   "cell_type": "markdown",
   "metadata": {},
   "source": [
    "##### （75）属性调用（类或实例）\n",
    "对于类或实例，都可以通过'.attribute'方式获取相应属性。"
   ]
  },
  {
   "cell_type": "code",
   "execution_count": null,
   "metadata": {},
   "outputs": [],
   "source": [
    "class test():                                   # 定义类\n",
    "    age=9\n",
    "test.age                                         # 调用类属性"
   ]
  },
  {
   "cell_type": "markdown",
   "metadata": {},
   "source": [
    "##### （76）方法调用\n",
    "对于类或实例，都可以通过'.method(\\*args, \\*\\*kwargs)'方式完成方法调用。\n"
   ]
  },
  {
   "cell_type": "code",
   "execution_count": null,
   "metadata": {},
   "outputs": [],
   "source": [
    "class test():                                   # 定义类\n",
    "    def my_print(self):                         # 定义实例方法\n",
    "        print('myself')\n",
    "        \n",
    "instance = test()                               # 创建实例\n",
    "instance.my_print()                             # 调用示例方法（从类中继承）"
   ]
  },
  {
   "cell_type": "markdown",
   "metadata": {
    "collapsed": true
   },
   "source": [
    "---\n",
    "\n",
    "## 3 NumPy\n"
   ]
  },
  {
   "cell_type": "markdown",
   "metadata": {},
   "source": [
    "### 3.1 模块导入"
   ]
  },
  {
   "cell_type": "markdown",
   "metadata": {},
   "source": [
    "##### （77）导入numpy模块\n",
    "使用import语句导入numpy模块。 \n",
    "\n",
    "下句为导入numpy模块代码惯例。"
   ]
  },
  {
   "cell_type": "code",
   "execution_count": null,
   "metadata": {},
   "outputs": [],
   "source": [
    "import numpy as np"
   ]
  },
  {
   "cell_type": "markdown",
   "metadata": {},
   "source": [
    "---\n",
    "\n",
    "### 3.2 数据创建"
   ]
  },
  {
   "cell_type": "markdown",
   "metadata": {},
   "source": [
    "#### 3.2.1 常规创建方式"
   ]
  },
  {
   "cell_type": "markdown",
   "metadata": {},
   "source": [
    "##### （78）np.array()函数\n",
    "使用numpy中array函数将可迭代对象转化为ndarray类型以备后续计算。"
   ]
  },
  {
   "cell_type": "code",
   "execution_count": null,
   "metadata": {
    "scrolled": false
   },
   "outputs": [],
   "source": [
    "a = np.array(range(4))                        # 生成ndarray\n",
    "a"
   ]
  },
  {
   "cell_type": "markdown",
   "metadata": {},
   "source": [
    "##### （79）np.arange()函数\n",
    "使用numpy中arange函数直接生成ndarray数据，运算逻辑类似range()内置函数。\n",
    "\n",
    "np.arange(n)返回一个可产生从0到n（不含n），步长为1数字的ndarray.  \n",
    "np.arange(a, b, s)返回一个可产生从a到b（不含b），步长为s数字的ndarray."
   ]
  },
  {
   "cell_type": "code",
   "execution_count": null,
   "metadata": {
    "scrolled": true
   },
   "outputs": [],
   "source": [
    "b = np.arange(5)\n",
    "b"
   ]
  },
  {
   "cell_type": "markdown",
   "metadata": {},
   "source": [
    "---\n",
    "\n",
    "#### 3.2.2 创建特殊ndarray"
   ]
  },
  {
   "cell_type": "markdown",
   "metadata": {},
   "source": [
    "##### （80）np.zeros\n",
    "生成一个形状如传入参数，元素均为0的ndarray。"
   ]
  },
  {
   "cell_type": "code",
   "execution_count": null,
   "metadata": {},
   "outputs": [],
   "source": [
    "a = np.zeros((3,3))\n",
    "a"
   ]
  },
  {
   "cell_type": "markdown",
   "metadata": {},
   "source": [
    "##### （81）np.ones\n",
    "生成一个形状如传入参数，元素均为1的ndarray。\n"
   ]
  },
  {
   "cell_type": "code",
   "execution_count": null,
   "metadata": {},
   "outputs": [],
   "source": [
    "a = np.ones((3,3))\n",
    "a"
   ]
  },
  {
   "cell_type": "markdown",
   "metadata": {},
   "source": [
    "##### （82）np.random模块\n",
    "利用该模块内的函数生成形状如传入参数，元素符合对应分布的ndarray。\n",
    "\n",
    "常用np.random.randn(a)生成a\\*1的ndarray，其值符合正态分布。\n",
    "（该模块内其他函数可在ipython中运行dir(np.random)进行查看）"
   ]
  },
  {
   "cell_type": "code",
   "execution_count": null,
   "metadata": {},
   "outputs": [],
   "source": [
    "a = np.random.randn(3)\n",
    "a"
   ]
  },
  {
   "cell_type": "markdown",
   "metadata": {},
   "source": [
    "---\n",
    "\n",
    "### 3.3 数学运算\n",
    "\n",
    "#### 3.3.1 基本运算 \n",
    "\n",
    "##### （83）求绝对值\n",
    "使用np.abs函数对ndarray中每一个元素求绝对值。"
   ]
  },
  {
   "cell_type": "code",
   "execution_count": null,
   "metadata": {
    "scrolled": false
   },
   "outputs": [],
   "source": [
    "a = np.array([1, -2, 3, -4])                             # 创建ndarray\n",
    "\n",
    "np.abs(a)                                                # 求绝对值    "
   ]
  },
  {
   "cell_type": "markdown",
   "metadata": {},
   "source": [
    "##### （84）求平方根\n",
    "使用np.sqrt函数对ndarray中每个元素求平方根。"
   ]
  },
  {
   "cell_type": "code",
   "execution_count": null,
   "metadata": {
    "scrolled": false
   },
   "outputs": [],
   "source": [
    "a = np.array([1, 2, 3, 4])                               # 创建ndarray\n",
    "\n",
    "np.sqrt(a)                                               # 求平方根    "
   ]
  },
  {
   "cell_type": "markdown",
   "metadata": {},
   "source": [
    "##### （85）求指数幂\n",
    "使用np.exp函数对ndarray中每个元素求指数幂"
   ]
  },
  {
   "cell_type": "code",
   "execution_count": null,
   "metadata": {
    "scrolled": false
   },
   "outputs": [],
   "source": [
    "a = np.array([1, 2, 3, 4])                               # 创建ndarray\n",
    "\n",
    "np.exp(a)                                               # 求指数幂    "
   ]
  },
  {
   "cell_type": "markdown",
   "metadata": {},
   "source": [
    "##### （86）求自然对数\n",
    "使用np.log函数对ndarray中每个元素求自然对数。"
   ]
  },
  {
   "cell_type": "code",
   "execution_count": null,
   "metadata": {
    "scrolled": false
   },
   "outputs": [],
   "source": [
    "a = np.array([1, 2, 3, 4])                               # 创建ndarray\n",
    "\n",
    "np.log(a)                                                # 求自然对数    "
   ]
  },
  {
   "cell_type": "markdown",
   "metadata": {},
   "source": [
    "##### （87）返回符号\n",
    "使用np.sign函数对ndarray中每个元素的符号进行判断。其中，对应正数返回1，对应负数返回-1，对应0返回0。"
   ]
  },
  {
   "cell_type": "code",
   "execution_count": null,
   "metadata": {},
   "outputs": [],
   "source": [
    "a = np.array([1, -2, 0])                                # 创建ndarray\n",
    "\n",
    "np.sign(a)                                              # 求符号"
   ]
  },
  {
   "cell_type": "markdown",
   "metadata": {},
   "source": [
    "#### 3.3.2 聚合运算"
   ]
  },
  {
   "cell_type": "markdown",
   "metadata": {},
   "source": [
    "##### （88）求最大值\n",
    "np.max函数与array.max方法等价。"
   ]
  },
  {
   "cell_type": "code",
   "execution_count": null,
   "metadata": {},
   "outputs": [],
   "source": [
    "a = np.array([1, -2, 0])                                # 创建ndarray\n",
    "\n",
    "a.max()                                                 # 求最大值"
   ]
  },
  {
   "cell_type": "markdown",
   "metadata": {},
   "source": [
    "##### （89）求最大值索引\n",
    "返回ndarray元素中最大元素的位置索引。\n",
    "\n",
    "np.argmax函数与array.argmax方法等价。"
   ]
  },
  {
   "cell_type": "code",
   "execution_count": null,
   "metadata": {},
   "outputs": [],
   "source": [
    "a = np.array([1, -2, 0])                                # 创建ndarray\n",
    "\n",
    "a.argmax()                                              # 求最大值索引"
   ]
  },
  {
   "cell_type": "markdown",
   "metadata": {},
   "source": [
    "##### （90）求最小值\n",
    "np.min函数与array.min方法等价。"
   ]
  },
  {
   "cell_type": "code",
   "execution_count": null,
   "metadata": {
    "scrolled": true
   },
   "outputs": [],
   "source": [
    "a = np.array([1, -2, 0])                                # 创建ndarray\n",
    "\n",
    "a.min()                                                 # 求最小值    "
   ]
  },
  {
   "cell_type": "markdown",
   "metadata": {},
   "source": [
    "##### （91）求最小值索引\n",
    "np.argmin函数与array.argmin方法等价。"
   ]
  },
  {
   "cell_type": "code",
   "execution_count": null,
   "metadata": {},
   "outputs": [],
   "source": [
    "a = np.array([1, -2, 0])                                # 创建ndarray\n",
    "\n",
    "a.argmin()                                              # 求最小值索引"
   ]
  },
  {
   "cell_type": "markdown",
   "metadata": {},
   "source": [
    "##### （92）求和\n",
    "np.sum函数与array.sum方法等价。"
   ]
  },
  {
   "cell_type": "code",
   "execution_count": null,
   "metadata": {
    "scrolled": true
   },
   "outputs": [],
   "source": [
    "a = np.array([1, -2, 0])                                # 创建ndarray\n",
    "\n",
    "a.sum()                                                 # 求和"
   ]
  },
  {
   "cell_type": "markdown",
   "metadata": {},
   "source": [
    "##### （93）求积\n",
    "np.prod函数和array.prod方法等价。"
   ]
  },
  {
   "cell_type": "code",
   "execution_count": null,
   "metadata": {},
   "outputs": [],
   "source": [
    "a = np.array([1, -2, 0])                                # 创建ndarray\n",
    "\n",
    "a.prod()                                                # 求积    "
   ]
  },
  {
   "cell_type": "markdown",
   "metadata": {},
   "source": [
    "##### （94）求均值\n",
    "np.mean函数与array.mean方法等价。"
   ]
  },
  {
   "cell_type": "code",
   "execution_count": null,
   "metadata": {},
   "outputs": [],
   "source": [
    "a = np.array([1, -2, 0])                                # 创建ndarray\n",
    "\n",
    "a.mean()                                                # 求均值"
   ]
  },
  {
   "cell_type": "markdown",
   "metadata": {},
   "source": [
    "##### （95）求中位数\n",
    "返回沿特定轴的中位数。"
   ]
  },
  {
   "cell_type": "code",
   "execution_count": null,
   "metadata": {},
   "outputs": [],
   "source": [
    "a = np.array([1, -2, 0])                                # 创建ndarray\n",
    "\n",
    "np.median(a)                                            # 求中位数"
   ]
  },
  {
   "cell_type": "markdown",
   "metadata": {},
   "source": [
    "##### （96）求标准差\n",
    "返回沿特定轴的标准差。\n",
    "\n",
    "np.std函数与array.std方法等价。"
   ]
  },
  {
   "cell_type": "code",
   "execution_count": null,
   "metadata": {
    "scrolled": true
   },
   "outputs": [],
   "source": [
    "a = np.array([1, -2, 0])                                # 创建ndarray\n",
    "\n",
    "a.std()                                                 # 求标准差"
   ]
  },
  {
   "cell_type": "markdown",
   "metadata": {},
   "source": [
    "##### （97）求方差\n",
    "返回沿特定轴的方差。\n",
    "\n",
    "np.var函数与array.var方法等价。"
   ]
  },
  {
   "cell_type": "code",
   "execution_count": null,
   "metadata": {},
   "outputs": [],
   "source": [
    "a = np.array([1, -2, 0])                                # 创建ndarray\n",
    "\n",
    "a.var()                                                 # 计算方差"
   ]
  },
  {
   "cell_type": "markdown",
   "metadata": {},
   "source": [
    "---\n",
    "\n",
    "#### 3.3.3 累计运算"
   ]
  },
  {
   "cell_type": "markdown",
   "metadata": {},
   "source": [
    "##### （98）累计和\n",
    "np.cumsum函数与array.cumsum方法等价。"
   ]
  },
  {
   "cell_type": "code",
   "execution_count": null,
   "metadata": {},
   "outputs": [],
   "source": [
    "a = np.array([1, -2, 0])                                # 创建ndarray\n",
    "\n",
    "a.cumsum()                                              # 计算累计和"
   ]
  },
  {
   "cell_type": "markdown",
   "metadata": {},
   "source": [
    "##### （99）累积乘积\n",
    "np.cumprod函数与array.cumprod方法等价。"
   ]
  },
  {
   "cell_type": "code",
   "execution_count": null,
   "metadata": {
    "scrolled": true
   },
   "outputs": [],
   "source": [
    "a = np.array([1, -2, 0])                                # 创建ndarray\n",
    "\n",
    "a.cumprod()                                             # 计算累计乘积"
   ]
  },
  {
   "cell_type": "markdown",
   "metadata": {},
   "source": [
    "---\n",
    "\n",
    "#### 3.3.4 逻辑运算"
   ]
  },
  {
   "cell_type": "markdown",
   "metadata": {},
   "source": [
    "##### （100）逻辑且1\n",
    "如果ndarray中每一个元素都为True，则返回True。\n",
    "\n",
    "np.all函数与array.all方法等价。"
   ]
  },
  {
   "cell_type": "code",
   "execution_count": null,
   "metadata": {
    "scrolled": true
   },
   "outputs": [],
   "source": [
    "np.array([True, False, False]).all()    "
   ]
  },
  {
   "cell_type": "markdown",
   "metadata": {},
   "source": [
    "##### （101）逻辑或1\n",
    "如果ndarray中有一个元素为True，则返回True。\n",
    "\n",
    "np.any函数与array.any方法等价。"
   ]
  },
  {
   "cell_type": "code",
   "execution_count": null,
   "metadata": {},
   "outputs": [],
   "source": [
    "np.array([True, False, False]).any()    "
   ]
  },
  {
   "cell_type": "markdown",
   "metadata": {},
   "source": [
    "##### （102）逻辑且2\n",
    "对多个ndarray中每一个元素进行并列判断，如果并列的每一个元素全为True，则返回True。"
   ]
  },
  {
   "cell_type": "code",
   "execution_count": null,
   "metadata": {},
   "outputs": [],
   "source": [
    "a = np.array([True, False, True, False])            # 创建ndarray a\n",
    "b = np.array([False, True, True, False])            # 创建ndarray b"
   ]
  },
  {
   "cell_type": "code",
   "execution_count": null,
   "metadata": {},
   "outputs": [],
   "source": [
    "np.logical_and(a, b)                                   # 进行逻辑且判断    "
   ]
  },
  {
   "cell_type": "markdown",
   "metadata": {},
   "source": [
    "##### （103）逻辑或2\n",
    "对多个ndarray中的每一个元素进行并列判断， 如果并列的元素有一个为True，则返回True。"
   ]
  },
  {
   "cell_type": "code",
   "execution_count": null,
   "metadata": {},
   "outputs": [],
   "source": [
    "a = np.array([True, False, True, False])            # 创建ndarray a\n",
    "b = np.array([False, True, True, False])            # 创建ndarray b"
   ]
  },
  {
   "cell_type": "code",
   "execution_count": null,
   "metadata": {},
   "outputs": [],
   "source": [
    "np.logical_or(a, b)    "
   ]
  },
  {
   "cell_type": "markdown",
   "metadata": {},
   "source": [
    "##### （104）np.where\n",
    "对ndarray中每一个元素进行判断，如果满足条件，对于该元素返回第二个参数，不满足返回第三个参数。最后返回结果为ndarray。\n",
    "\n",
    "常用于对数据条件判断后替换为其他值。"
   ]
  },
  {
   "cell_type": "code",
   "execution_count": null,
   "metadata": {},
   "outputs": [],
   "source": [
    "a = np.array([True, False, True])     # 创建ndarray a\n",
    "\n",
    "np.where(a, 1, 0)        "
   ]
  },
  {
   "cell_type": "markdown",
   "metadata": {},
   "source": [
    "##### （105）广播\n",
    "\n",
    "（详见AQF课程numpy基础部分）"
   ]
  },
  {
   "cell_type": "code",
   "execution_count": null,
   "metadata": {},
   "outputs": [],
   "source": [
    "a = np.array([1, 3, 2, 4])              # 创建ndarray a\n",
    "\n",
    "a + 2"
   ]
  },
  {
   "cell_type": "markdown",
   "metadata": {},
   "source": [
    " ---\n",
    "\n",
    "### 3.4 数据操作"
   ]
  },
  {
   "cell_type": "markdown",
   "metadata": {},
   "source": [
    "#### 3.4.1 索引"
   ]
  },
  {
   "cell_type": "markdown",
   "metadata": {},
   "source": [
    "##### （106）位置索引\n",
    "根据位置获取ndarray的某一个值，使用方法类似list。"
   ]
  },
  {
   "cell_type": "code",
   "execution_count": null,
   "metadata": {},
   "outputs": [],
   "source": [
    "a = np.array([1,2,3,4])                 # 创建ndarray\n",
    "\n",
    "a[2]                                    # 进行位置索引"
   ]
  },
  {
   "cell_type": "markdown",
   "metadata": {},
   "source": [
    "##### （107）bool值索引\n",
    "使用bool值进行索引，True则获取对应ndarray中的元素，False则不获取。最终返回ndarray。"
   ]
  },
  {
   "cell_type": "code",
   "execution_count": null,
   "metadata": {},
   "outputs": [],
   "source": [
    "a = np.array([1,2,3,4])                 # 创建ndarray\n",
    "\n",
    "a[[True, False, True, False]]        # bool值索引"
   ]
  },
  {
   "cell_type": "code",
   "execution_count": null,
   "metadata": {
    "scrolled": true
   },
   "outputs": [],
   "source": [
    "a[a > 2]                               # 常用bool值索引形式"
   ]
  },
  {
   "cell_type": "markdown",
   "metadata": {},
   "source": [
    "#### 3.4.2 数据规整化"
   ]
  },
  {
   "cell_type": "markdown",
   "metadata": {},
   "source": [
    "##### （108）排序\n",
    "对ndarray中元素进行排序，默认为升序排列。\n",
    "\n",
    "np.sort函数和array.sort方法类似。"
   ]
  },
  {
   "cell_type": "code",
   "execution_count": null,
   "metadata": {},
   "outputs": [],
   "source": [
    "a = np.array([1,2,3,4])                 # 创建ndarray\n",
    "\n",
    "a.sort()                                # 进行排序    \n",
    "a"
   ]
  },
  {
   "cell_type": "markdown",
   "metadata": {},
   "source": [
    "##### （109）维度调整\n",
    "对ndarray中元素进行维度调整，调整为输入参数形状。\n",
    "\n",
    "np.reshape函数和array.reshape方法等价。"
   ]
  },
  {
   "cell_type": "code",
   "execution_count": null,
   "metadata": {
    "scrolled": true
   },
   "outputs": [],
   "source": [
    "a = np.array([1,2,3,4])                 # 创建ndarray\n",
    "\n",
    "a.reshape(2,2)                      # 调整为2*2形式的ndarray\n"
   ]
  },
  {
   "cell_type": "markdown",
   "metadata": {},
   "source": [
    "##### （110）转置\n",
    "对ndarray进行转置。\n",
    "\n",
    "np.transpose函数和array.T属性返回结果类似。"
   ]
  },
  {
   "cell_type": "code",
   "execution_count": null,
   "metadata": {},
   "outputs": [],
   "source": [
    "a = np.array([[1,2],[3,4]])                 # 创建ndarray\n",
    "\n",
    "a.T                                     # 对a进行转置"
   ]
  },
  {
   "cell_type": "markdown",
   "metadata": {},
   "source": [
    "##### （111）拼接\n",
    "拼接多个ndarray。\n",
    "\n",
    "axis=1表示横向拼接， axis=0表示纵向拼接"
   ]
  },
  {
   "cell_type": "code",
   "execution_count": null,
   "metadata": {},
   "outputs": [],
   "source": [
    "a =  np.array([[1,2], [3,4]])     # 创建ndarray\n",
    "\n",
    "np.concatenate((a, a), axis=1)    # 拼接"
   ]
  },
  {
   "cell_type": "markdown",
   "metadata": {},
   "source": [
    "---\n",
    "\n",
    "## 4 Pandas"
   ]
  },
  {
   "cell_type": "markdown",
   "metadata": {},
   "source": [
    "### 4.1 模块导入"
   ]
  },
  {
   "cell_type": "markdown",
   "metadata": {},
   "source": [
    "##### （112）导入pandas模块\n",
    "\n",
    "下面为导入pandas模块代码惯例。"
   ]
  },
  {
   "cell_type": "code",
   "execution_count": null,
   "metadata": {},
   "outputs": [],
   "source": [
    "import pandas as pd"
   ]
  },
  {
   "cell_type": "markdown",
   "metadata": {},
   "source": [
    "---\n",
    "\n",
    "### 4.2 Series数据创建"
   ]
  },
  {
   "cell_type": "markdown",
   "metadata": {},
   "source": [
    "##### （113）创建Series1\n",
    "通过pd.Series函数创建Series。"
   ]
  },
  {
   "cell_type": "code",
   "execution_count": null,
   "metadata": {
    "scrolled": false
   },
   "outputs": [],
   "source": [
    "s = pd.Series([1, 2, 3, 4])    \n",
    "s"
   ]
  },
  {
   "cell_type": "markdown",
   "metadata": {},
   "source": [
    "##### （114）创建Series2\n",
    "通过pd.Series函数创建Series，传入参数为包含映射关系的对象,如字典。\n",
    "\n",
    "函数运行时将映射关系在前的（如字典键）作为Series的key，在后的作为值。"
   ]
  },
  {
   "cell_type": "code",
   "execution_count": null,
   "metadata": {},
   "outputs": [],
   "source": [
    "s = pd.Series({'a':1, 'b':2})\n",
    "s"
   ]
  },
  {
   "cell_type": "markdown",
   "metadata": {},
   "source": [
    "##### （115）创建DataFrame\n",
    "通过pd.DataFrame函数创建DataFrame，可通过传入colums，index参数设置DataFrame的行index和列名。"
   ]
  },
  {
   "cell_type": "code",
   "execution_count": null,
   "metadata": {
    "scrolled": false
   },
   "outputs": [],
   "source": [
    "df = pd.DataFrame([[1, 2, 3], [4, 5, 6], [7, 8, 9]], columns=['a', 'b', 'c'])    \n",
    "df"
   ]
  },
  {
   "cell_type": "markdown",
   "metadata": {},
   "source": [
    "---\n",
    "\n",
    "\n",
    "### 4.2 数据操作"
   ]
  },
  {
   "cell_type": "markdown",
   "metadata": {},
   "source": [
    "#### 4.2.1 Series索引"
   ]
  },
  {
   "cell_type": "markdown",
   "metadata": {},
   "source": [
    "##### （116）获取 Series 的 index"
   ]
  },
  {
   "cell_type": "code",
   "execution_count": null,
   "metadata": {},
   "outputs": [],
   "source": [
    "s = pd.Series([1, 2, 3, 4])                # 创建Series\n",
    "\n",
    "s.index    "
   ]
  },
  {
   "cell_type": "markdown",
   "metadata": {},
   "source": [
    "##### （117）获取 Series 的 value"
   ]
  },
  {
   "cell_type": "code",
   "execution_count": null,
   "metadata": {
    "scrolled": true
   },
   "outputs": [],
   "source": [
    "s = pd.Series([1, 2, 3, 4])                # 创建Series\n",
    "\n",
    "s.values"
   ]
  },
  {
   "cell_type": "markdown",
   "metadata": {},
   "source": [
    "##### （118）修改 Series 索引\n",
    "通过对index使用等号赋值的方式完成对index的调整。"
   ]
  },
  {
   "cell_type": "code",
   "execution_count": null,
   "metadata": {},
   "outputs": [],
   "source": [
    "s = pd.Series([1, 2, 3, 4])                # 创建Series\n",
    "\n",
    "s.index = ['a', 'b', 'c', 'd']             # 修改索引   \n",
    "s"
   ]
  },
  {
   "cell_type": "markdown",
   "metadata": {},
   "source": [
    "##### （119）Series以位置进行索引\n",
    "通过位置获取Series中某个元素，使用方法类似list的索引。"
   ]
  },
  {
   "cell_type": "code",
   "execution_count": null,
   "metadata": {},
   "outputs": [],
   "source": [
    "s = pd.Series([1, 2, 3, 4], index=['a', 'b', 'c','d'])      # 创建Series\n",
    "\n",
    "s[1]    "
   ]
  },
  {
   "cell_type": "markdown",
   "metadata": {},
   "source": [
    "##### （120）Series以index进行索引\n",
    "通过输入Series某一个index的值获得对应的value。\n"
   ]
  },
  {
   "cell_type": "code",
   "execution_count": null,
   "metadata": {},
   "outputs": [],
   "source": [
    "s = pd.Series([1, 2, 3, 4], index=['a', 'b', 'c','d'])      # 创建Series\n",
    "\n",
    "s['c']    "
   ]
  },
  {
   "cell_type": "markdown",
   "metadata": {},
   "source": [
    "##### （121）Series以bool值进行索引\n",
    "通过输入bool值进行索引，如果为True，则获取对应元素，如果为False，则忽略元素。"
   ]
  },
  {
   "cell_type": "code",
   "execution_count": null,
   "metadata": {},
   "outputs": [],
   "source": [
    "s = pd.Series([1, 2, 3, 4], index=['a', 'b', 'c','d'])      # 创建Series\n",
    "\n",
    "s[s > 2]    # 以bool值进行索引"
   ]
  },
  {
   "cell_type": "markdown",
   "metadata": {},
   "source": [
    "##### （122）Series以位置进行切片\n",
    "切片方式类似list。"
   ]
  },
  {
   "cell_type": "code",
   "execution_count": null,
   "metadata": {},
   "outputs": [],
   "source": [
    "s = pd.Series([1, 2, 3, 4], index=['a', 'b', 'c','d'])      # 创建Series\n",
    "\n",
    "s[1:3]    "
   ]
  },
  {
   "cell_type": "markdown",
   "metadata": {},
   "source": [
    "##### （123）Series以index进行切片\n",
    "series[a:b] 使用a，b两个series中的index进行切片，将获得a，b之间（包含b）的所有数据。"
   ]
  },
  {
   "cell_type": "code",
   "execution_count": null,
   "metadata": {
    "scrolled": true
   },
   "outputs": [],
   "source": [
    "s = pd.Series([1, 2, 3, 4], index=['a', 'b', 'c','d'])      # 创建Series\n",
    "\n",
    "s['a':'c']    # 以index进行切片，注意包含末尾index对应的value"
   ]
  },
  {
   "cell_type": "markdown",
   "metadata": {},
   "source": [
    "---\n",
    "\n",
    "#### 4.2.2 DataFrame索引"
   ]
  },
  {
   "cell_type": "markdown",
   "metadata": {},
   "source": [
    "##### （124）获得DataFrame行index\n",
    "使用df.index属性进行获取。"
   ]
  },
  {
   "cell_type": "code",
   "execution_count": null,
   "metadata": {},
   "outputs": [],
   "source": [
    "df = pd.DataFrame([[1, 2, 3], [4, 5, 6], [7, 8, 9]], columns=['a', 'b', 'c'])\n",
    "                                       # 创建DataFrame\n",
    "df.index                               # 获取index"
   ]
  },
  {
   "cell_type": "markdown",
   "metadata": {},
   "source": [
    "##### （125）获得DataFrame列index（列名）\n",
    "使用df.columns属性进行获取。"
   ]
  },
  {
   "cell_type": "code",
   "execution_count": null,
   "metadata": {
    "scrolled": false
   },
   "outputs": [],
   "source": [
    "df = pd.DataFrame([[1, 2, 3], [4, 5, 6], [7, 8, 9]], columns=['a', 'b', 'c'])\n",
    "                                       # 创建DataFrame\n",
    "df.columns                             # 获取列index"
   ]
  },
  {
   "cell_type": "markdown",
   "metadata": {},
   "source": [
    "##### （126）修改行index\n",
    "通过对df.index进行属性赋值方式，完成对行index 的修改。对列属性df.columns修改也可以采用同样方式。"
   ]
  },
  {
   "cell_type": "code",
   "execution_count": null,
   "metadata": {},
   "outputs": [],
   "source": [
    "df = pd.DataFrame([[1, 2, 3], [4, 5, 6], [7, 8, 9]], columns=['a', 'b', 'c'])\n",
    "                                       # 创建DataFrame\n",
    "\n",
    "df.index = ['e', 'f', 'g']             # 修改行index\n",
    "df"
   ]
  },
  {
   "cell_type": "markdown",
   "metadata": {},
   "source": [
    "##### （127）DataFrame获取列数据\n",
    "\n",
    "通过列index获取DataFrame中某一列数据。"
   ]
  },
  {
   "cell_type": "code",
   "execution_count": null,
   "metadata": {},
   "outputs": [],
   "source": [
    "df = pd.DataFrame([[1, 2, 3], [4, 5, 6], [7, 8, 9]], columns=['a', 'b', 'c'])\n",
    "                                       # 创建DataFrame\n",
    "\n",
    "df['a']                                # 进行索引"
   ]
  },
  {
   "cell_type": "markdown",
   "metadata": {},
   "source": [
    "##### （128）DataFrame获取多列数据\n",
    "通过传入多个列index元素获取DataFrame的相应多列数据。\n",
    "\n",
    "注意传入参数应为一个包含列index的列表。"
   ]
  },
  {
   "cell_type": "code",
   "execution_count": null,
   "metadata": {},
   "outputs": [],
   "source": [
    "df = pd.DataFrame([[1, 2, 3], [4, 5, 6], [7, 8, 9]], columns=['a', 'b', 'c'])\n",
    "                                       # 创建DataFrame\n",
    "\n",
    "df[['a', 'c']]                         # 索引多列数据"
   ]
  },
  {
   "cell_type": "markdown",
   "metadata": {},
   "source": [
    "##### （129）DataFrame获取行数据1\n",
    "使用df.loc方法通过传入行index获取行数据。\n",
    "\n",
    "df.loc[a:b]表示获取从a行开始到b行为止（含b行）数据。  \n",
    "df.loc[a:] 表示获取从a行开始到DataFrame末尾的所有数据。  \n",
    "df.loc[:b] 表示获取从DataFrame首行开始到b行为止（含b行）所有的数据。  \n",
    "df.loc[a:b:s]表示以步长为s获取从a行开始到b行为止之间的所有数据。\n"
   ]
  },
  {
   "cell_type": "code",
   "execution_count": null,
   "metadata": {
    "scrolled": true
   },
   "outputs": [],
   "source": [
    "df = pd.DataFrame([[1, 2, 3], [4, 5, 6], [7, 8, 9]], columns=['a', 'b', 'c'],index=['x','y','z'])\n",
    "                                       # 创建DataFrame\n",
    "\n",
    "df.loc['x':'z':2]                            # 以行index进行索引返回行数据"
   ]
  },
  {
   "cell_type": "markdown",
   "metadata": {},
   "source": [
    "##### （130）DataFrame获取行数据2\n",
    "使用df.iloc方法通过传入位置参数获取行数据。\n",
    "\n",
    "df.iloc[a:b]表示获取从位置a行开始到位置b行为止（不含b行）数据。  \n",
    "df.iloc[a:] 表示获取从位置a行开始到DataFrame末尾的所有数据。  \n",
    "df.iloc[:b] 表示获取从DataFrame首行开始到位置b行为止（不含b行）所有的数据。  \n",
    "df.iloc[a:b:s]表示以步长为s获取从位置a行开始到位置b行为止之间的所有数据。  "
   ]
  },
  {
   "cell_type": "code",
   "execution_count": null,
   "metadata": {
    "scrolled": true
   },
   "outputs": [],
   "source": [
    "df = pd.DataFrame([[1, 2, 3], [4, 5, 6], [7, 8, 9]], columns=['a', 'b', 'c'],index=['x','y','z'])\n",
    "                                       # 创建DataFrame\n",
    "\n",
    "df.iloc[0]                             # 以行位置进行索引返回行数据"
   ]
  },
  {
   "cell_type": "markdown",
   "metadata": {},
   "source": [
    "##### （131）DataFrame获取多行数据1\n",
    "\n",
    "使用df.loc方法，通过传入多行index获取多行数据。\n",
    "\n",
    "注意传入参数应为一个包含列index的列表。"
   ]
  },
  {
   "cell_type": "code",
   "execution_count": null,
   "metadata": {
    "scrolled": true
   },
   "outputs": [],
   "source": [
    "df = pd.DataFrame([[1, 2, 3], [4, 5, 6], [7, 8, 9]], columns=['a', 'b', 'c'],index=['x','y','z'])\n",
    "                                       # 创建DataFrame\n",
    "\n",
    "df.loc[['x','y']]                      # 索引获取多行数据"
   ]
  },
  {
   "cell_type": "markdown",
   "metadata": {},
   "source": [
    "##### （132）DataFrame获取多行数据2\n",
    "使用df.iloc方法，通过传入多行的位置获取多行数据。\n",
    "\n",
    "注意传入参数应为一个包含列位置的列表。"
   ]
  },
  {
   "cell_type": "code",
   "execution_count": null,
   "metadata": {},
   "outputs": [],
   "source": [
    "df = pd.DataFrame([[1, 2, 3], [4, 5, 6], [7, 8, 9]], columns=['a', 'b', 'c'],index=['x','y','z'])\n",
    "                                       # 创建DataFrame\n",
    "\n",
    "df.iloc[[0, 1]]    # 以行位置进行索引返回多行数据"
   ]
  },
  {
   "cell_type": "markdown",
   "metadata": {},
   "source": [
    "##### （133）以行列 index 获取某个位置数据\n",
    "使用df.loc方法，通过传入行index，列index获取一个数据。"
   ]
  },
  {
   "cell_type": "code",
   "execution_count": null,
   "metadata": {},
   "outputs": [],
   "source": [
    "df = pd.DataFrame([[1, 2, 3], [4, 5, 6], [7, 8, 9]], columns=['a', 'b', 'c'],index=['x','y','z'])\n",
    "                                       # 创建DataFrame\n",
    "\n",
    "df.loc['x', 'a']                       # 进行索引返回某个位置数据"
   ]
  },
  {
   "cell_type": "markdown",
   "metadata": {},
   "source": [
    "##### （134）以行列位置获取某个位置数据\n",
    "使用df.iloc方法，通过传入行位置，列位置获取一个数据。"
   ]
  },
  {
   "cell_type": "code",
   "execution_count": null,
   "metadata": {},
   "outputs": [],
   "source": [
    "df = pd.DataFrame([[1, 2, 3], [4, 5, 6], [7, 8, 9]], columns=['a', 'b', 'c'],index=['x','y','z'])\n",
    "                                       # 创建DataFrame\n",
    "\n",
    "df.iloc[0, 0]                          # 进行索引返回某个位置数据"
   ]
  },
  {
   "cell_type": "markdown",
   "metadata": {},
   "source": [
    "##### （135）以行列 index 获取某个区域数据\n",
    "使用df.loc方法，通过传入行列index获取某个区域的数据。\n",
    "\n",
    "df.loc[a:b, x:y]，其中传入的行列标签使用规则参照使用行标签进行索引和使用列标签进行索引。"
   ]
  },
  {
   "cell_type": "code",
   "execution_count": null,
   "metadata": {},
   "outputs": [],
   "source": [
    "df = pd.DataFrame([[1, 2, 3], [4, 5, 6], [7, 8, 9]], columns=['a', 'b', 'c'],index=['x','y','z'])\n",
    "                                       # 创建DataFrame\n",
    "\n",
    "df.loc['x':'z', 'b':'c']               # 进行索引返回某个区域数据"
   ]
  },
  {
   "cell_type": "markdown",
   "metadata": {},
   "source": [
    "##### （136）以行列位置获取某个区域数据\n",
    "使用df.iloc方法，通过传入行列位置获取某个区域的数据。  \n",
    "df.iloc[a:b, x:y]，其中传入的行列位置使用规则参照使用行位置进行索引，列位置使用规则与行位置规则相似。"
   ]
  },
  {
   "cell_type": "code",
   "execution_count": null,
   "metadata": {},
   "outputs": [],
   "source": [
    "df = pd.DataFrame([[1, 2, 3], [4, 5, 6], [7, 8, 9]], columns=['a', 'b', 'c'],index=['x','y','z'])\n",
    "                                       # 创建DataFrame\n",
    "\n",
    "df.iloc[:, 0:2]                        # 进行索引返回某个区域数据"
   ]
  },
  {
   "cell_type": "markdown",
   "metadata": {},
   "source": [
    "##### （137）DataFrame获得前 n 行数据\n",
    "使用df.head方法获得前n行数据，如果不传入参数，默认获取前5行。"
   ]
  },
  {
   "cell_type": "code",
   "execution_count": null,
   "metadata": {
    "scrolled": true
   },
   "outputs": [],
   "source": [
    "df = pd.DataFrame([[1, 2, 3], [4, 5, 6], [7, 8, 9]], columns=['a', 'b', 'c'],index=['x','y','z'])\n",
    "                                       # 创建DataFrame\n",
    "    \n",
    "\n",
    "df.head(2)                             # 获取前两行数据"
   ]
  },
  {
   "cell_type": "markdown",
   "metadata": {},
   "source": [
    "##### （138）DataFrame获得末尾 n行数据\n",
    "使用df.tail方法获得后n行数据，如果不传入参数，默认获取后5行。"
   ]
  },
  {
   "cell_type": "code",
   "execution_count": null,
   "metadata": {},
   "outputs": [],
   "source": [
    "df = pd.DataFrame([[1, 2, 3], [4, 5, 6], [7, 8, 9]], columns=['a', 'b', 'c'],index=['x','y','z'])\n",
    "                                       # 创建DataFrame\n",
    "\n",
    "df.tail(2)                             # 获取后两行数据"
   ]
  },
  {
   "cell_type": "markdown",
   "metadata": {},
   "source": [
    "---\n",
    "#### 4.2.3  Series数据清洗、排序、平移、拼接"
   ]
  },
  {
   "cell_type": "markdown",
   "metadata": {},
   "source": [
    "##### （139）Series检测缺失值\n",
    "使用series.isnull方法检测每一个元素是否为nan。  \n",
    "（如果是None，在转化为Series会被转化为np.nan)"
   ]
  },
  {
   "cell_type": "code",
   "execution_count": null,
   "metadata": {},
   "outputs": [],
   "source": [
    "s = pd.Series([1, 2, np.nan, 4])               # 创建Series\n",
    "\n",
    "s.isnull()                                     # 检测nan值"
   ]
  },
  {
   "cell_type": "markdown",
   "metadata": {},
   "source": [
    "##### （140）Series填充缺失值\n",
    "使用series.fillna方法填充缺失值。  \n",
    "\n",
    "常用参数：  \n",
    "value：设置填充时使用值  \n",
    "method：设置填充方式  \n",
    "inplace: 设置是否对当前series进行原地修改  "
   ]
  },
  {
   "cell_type": "code",
   "execution_count": null,
   "metadata": {
    "scrolled": true
   },
   "outputs": [],
   "source": [
    "s = pd.Series([1, 2, np.nan, 4])               # 创建Series\n",
    "\n",
    "s.fillna(method='ffill')                       # 进行填充"
   ]
  },
  {
   "cell_type": "markdown",
   "metadata": {},
   "source": [
    "##### （141）Series删除缺失值\n",
    "使用series.dropna方法删除缺失数据。\n",
    "\n",
    "常用参数：  \n",
    "inplace: 设置是否对当前series进行原地修改"
   ]
  },
  {
   "cell_type": "code",
   "execution_count": null,
   "metadata": {},
   "outputs": [],
   "source": [
    "s = pd.Series([1, 2, np.nan, 4])               # 创建Series\n",
    "\n",
    "s.dropna()                                     # 进行删除"
   ]
  },
  {
   "cell_type": "markdown",
   "metadata": {},
   "source": [
    "##### （142）Series以 index 排序\n",
    "使用series.sort_index方法，根据index的顺序对series进行排序。\n",
    "\n",
    "常用参数：  \n",
    "ascending: 设置是否升序排序  \n",
    "inplace: 设置是否对当前series进行原地修改"
   ]
  },
  {
   "cell_type": "code",
   "execution_count": null,
   "metadata": {},
   "outputs": [],
   "source": [
    "s = pd.Series([1, 2, np.nan, 4], index=[2,3,1,4])               # 创建Series\n",
    "\n",
    "s.sort_index()                                 # 进行排序"
   ]
  },
  {
   "cell_type": "markdown",
   "metadata": {},
   "source": [
    "##### （143）Series以值进行排序\n",
    "使用series.sort_values方法，根据数据值的大小进行排序。\n",
    "\n",
    "常用参数：  \n",
    "ascending: 设置是否升序排序  \n",
    "inplace: 设置是否对当前series进行原地修改"
   ]
  },
  {
   "cell_type": "code",
   "execution_count": null,
   "metadata": {
    "scrolled": true
   },
   "outputs": [],
   "source": [
    "s = pd.Series([1, 2, np.nan, 4])               # 创建Series\n",
    "\n",
    "s.sort_values()                                # 进行排序"
   ]
  },
  {
   "cell_type": "markdown",
   "metadata": {},
   "source": [
    "##### （144）Series值平移\n",
    "使用series.shift方法，保持index不动，将数值整体进行平移。进行平移后在首尾出现空值的位置适应np.nan进行填充。"
   ]
  },
  {
   "cell_type": "code",
   "execution_count": null,
   "metadata": {
    "scrolled": true
   },
   "outputs": [],
   "source": [
    "s = pd.Series([1, 2, np.nan, 4])               # 创建Series\n",
    "\n",
    "s.shift(1)"
   ]
  },
  {
   "cell_type": "markdown",
   "metadata": {},
   "source": [
    "##### （145）Series拼接\n",
    "使用series.append另一个Series与原Series进行拼接。\n",
    "\n",
    "常用参数：\n",
    "ignore_index;表示进行拼接时是否忽略传入series自身的index。"
   ]
  },
  {
   "cell_type": "code",
   "execution_count": null,
   "metadata": {},
   "outputs": [],
   "source": [
    "s1 = pd.Series([1, 2, 3])               # 创建Series s1\n",
    "s1"
   ]
  },
  {
   "cell_type": "code",
   "execution_count": null,
   "metadata": {},
   "outputs": [],
   "source": [
    "s2 = pd.Series([1, 2, 3], index=['a', 'b','c'])               # 创建Series s1\n",
    "s2"
   ]
  },
  {
   "cell_type": "code",
   "execution_count": null,
   "metadata": {},
   "outputs": [],
   "source": [
    "s1.append(s2)"
   ]
  },
  {
   "cell_type": "markdown",
   "metadata": {},
   "source": [
    "---\n",
    "\n",
    "#### 4.2.4 DataFrame数据清洗、排序、平移、拼接"
   ]
  },
  {
   "cell_type": "markdown",
   "metadata": {},
   "source": [
    "##### （146）DataFrame检测缺失值\n",
    "使用dataframe.isnull方法检测每一个元素是否为nan。\n",
    "（如果是None，会被转化为np.nan)"
   ]
  },
  {
   "cell_type": "code",
   "execution_count": null,
   "metadata": {},
   "outputs": [],
   "source": [
    "df = pd.DataFrame([[1, np.nan, 3], [4, 5, 6], [7, 8, 9]], columns=['a', 'b', 'c'],index=['x','y','z'])\n",
    "                                       # 创建DataFrame\n",
    "\n",
    "df.isnull()                            # 检测是否为nan"
   ]
  },
  {
   "cell_type": "markdown",
   "metadata": {},
   "source": [
    "##### （147）DataFrame填充缺失值\n",
    "使用dataframe.fillna方法填充缺失值。  \n",
    "常用参数：  \n",
    "value：设置填充时使用值  \n",
    "method：设置填充方式  \n",
    "inplace: 设置是否对当前dataframe进行原地修改  "
   ]
  },
  {
   "cell_type": "code",
   "execution_count": null,
   "metadata": {},
   "outputs": [],
   "source": [
    "df = pd.DataFrame([[1, np.nan, 3], [4, 5, 6], [7, 8, 9]], columns=['a', 'b', 'c'],index=['x','y','z'])\n",
    "                                       # 创建DataFrame\n",
    "\n",
    "df.fillna(method='bfill')              # 进行填充"
   ]
  },
  {
   "cell_type": "markdown",
   "metadata": {},
   "source": [
    "##### （148）DataFrame删除缺失值\n",
    "\n",
    "使用dataframe.dropna方法删除缺失数据。  \n",
    "常用参数：  \n",
    "inplace: 设置是否对当前dataframe进行原地修改   \n",
    "how:设置删除判定条件。'any'表示只要存在一个数据为nan，则将该条数据删除；'all'表示该条数据中所有数据都为nan才会将其删除。  \n",
    "axis：删除缺失值时的判定执行方向。'0'表示将一行数据作为一条数据进行判定，'1'表示将一列数据作为一条数据进行判定。"
   ]
  },
  {
   "cell_type": "code",
   "execution_count": null,
   "metadata": {},
   "outputs": [],
   "source": [
    "df = pd.DataFrame([[1, np.nan, 3], [4, 5, 6], [7, 8, 9]], columns=['a', 'b', 'c'],index=['x','y','z'])\n",
    "                                       # 创建DataFrame\n",
    "\n",
    "df.dropna()                            # 删除缺失值"
   ]
  },
  {
   "cell_type": "markdown",
   "metadata": {},
   "source": [
    "##### （149）DataFrame以index进行排序\n",
    "\n",
    "使用dataframe.sort_index方法，根据index的顺序对dataframe进行排序。可以根据行index或列index对行或列进行排序。  \n",
    "\n",
    "常用参数：  \n",
    "ascending: 设置是否升序排序  \n",
    "inplace: 设置是否对当前dataframe进行原地修改  \n",
    "axis: '0'表示对行index进行排序，'1'表示对列index(即column）进行排序  "
   ]
  },
  {
   "cell_type": "code",
   "execution_count": null,
   "metadata": {
    "scrolled": true
   },
   "outputs": [],
   "source": [
    "df = pd.DataFrame([[1, np.nan, 3], [4, 5, 6], [7, 8, 9]], columns=['a', 'b', 'c'],index=['x','z','y'])\n",
    "                                       # 创建DataFrame\n",
    "\n",
    "df.sort_index()                        # 进行排序"
   ]
  },
  {
   "cell_type": "markdown",
   "metadata": {},
   "source": [
    "##### （150）DataFrame以某值进行排序\n",
    "使用dataframe.sort_values方法，根据某行或列数值的顺序对dataframe进行排序。可以根据某行值或某列值进行排序。\n",
    "\n",
    "by：排序时作为标准的行或列index，可以传入单个或包含多个的列表  \n",
    "ascending: 设置是否升序排序  \n",
    "inplace: 设置是否对当前dataframe进行原地修改  \n",
    "axis: '0'表示根据一列数据对多行进行排序，'1'表示根据一行数据对一列进行排序，默认为0  "
   ]
  },
  {
   "cell_type": "code",
   "execution_count": null,
   "metadata": {},
   "outputs": [],
   "source": [
    "df = pd.DataFrame([[1, np.nan, 3], [4, 5, 6], [7, 8, 9]], columns=['a', 'b', 'c'],index=['x','z','y'])\n",
    "                                       # 创建DataFrame\n",
    "    \n",
    "df.sort_values(by='b', ascending=False)    # 进行排序"
   ]
  },
  {
   "cell_type": "markdown",
   "metadata": {},
   "source": [
    "##### （151）Dataframe与Series合并简单方式。\n",
    "通过对DataFrame新列使用等号赋值一个Series的方式完成DataFrame与Series合并。合并时将按照dataframe的index，对新列数据使用Series数据进行填充。如果dataframe中某一个index在Series中没有对应值，那么用nan进行填充。"
   ]
  },
  {
   "cell_type": "code",
   "execution_count": null,
   "metadata": {},
   "outputs": [],
   "source": [
    "df = pd.DataFrame([[1, np.nan, 3], [4, 5, 6], [7, 8, 9]], columns=['a', 'b', 'c'],index=['x','z','y'])\n",
    "                                                     # 创建DataFrame\n",
    "s = pd.Series([10, 10], index=['x', 'y'])            # 创建Series\n",
    "\n",
    "df['new_column'] = s                                 # 进行合并\n",
    "df"
   ]
  },
  {
   "cell_type": "markdown",
   "metadata": {},
   "source": [
    "##### （152）两个DataFrame进行合并1\n",
    "使用pd.merge函数或dataframe.merge方法对两个DataFrame进行合并。\n",
    "（详细使用介绍请参考AQF课程资料）"
   ]
  },
  {
   "cell_type": "code",
   "execution_count": null,
   "metadata": {},
   "outputs": [],
   "source": [
    "df1 = pd.DataFrame([['a', np.nan], ['b', 5], ['c', 8]], columns=['key1', 'value1'],index=['x','z','y'])\n",
    "                                                     # 创建DataFrame df1\n",
    "df1"
   ]
  },
  {
   "cell_type": "code",
   "execution_count": null,
   "metadata": {},
   "outputs": [],
   "source": [
    "df2 = pd.DataFrame([['a', 100], ['b', 10], ['c', 100]], columns=['key2', 'value2'],index=['x','z','y'])\n",
    "                                                     # 创建DataFrame  df2\n",
    "df2"
   ]
  },
  {
   "cell_type": "code",
   "execution_count": null,
   "metadata": {},
   "outputs": [],
   "source": [
    "df1.merge(df2, left_on='key1', right_on='key2')      # 进行合并"
   ]
  },
  {
   "cell_type": "markdown",
   "metadata": {},
   "source": [
    "##### （153）两个DataFrame进行合并2\n",
    "\n",
    "参照两个DataFrame的index使用dataframe.join方法对两个DataFrame进行合并。 （详细使用介绍请参考AQF课程资料）"
   ]
  },
  {
   "cell_type": "code",
   "execution_count": null,
   "metadata": {},
   "outputs": [],
   "source": [
    "df1 = pd.DataFrame([['a', np.nan], ['b', 5], ['c', 8]], columns=['key1', 'value1'],index=['x','z','y'])\n",
    "                                                     # 创建DataFrame df1\n",
    "df1"
   ]
  },
  {
   "cell_type": "code",
   "execution_count": null,
   "metadata": {},
   "outputs": [],
   "source": [
    "df2 = pd.DataFrame([['a', 100], ['b', 10], ['c', 100]], columns=['key2', 'value2'],index=['x','z','y'])\n",
    "                                                     # 创建DataFrame  df2\n",
    "df2"
   ]
  },
  {
   "cell_type": "code",
   "execution_count": null,
   "metadata": {
    "scrolled": true
   },
   "outputs": [],
   "source": [
    "df1.join(df2)      # 进行合并"
   ]
  },
  {
   "cell_type": "markdown",
   "metadata": {},
   "source": [
    "##### （154）两个DataFrame进行拼接\n",
    "将多个DataFrame进行拼接 （详细使用介绍请参考AQF课程资料）"
   ]
  },
  {
   "cell_type": "code",
   "execution_count": null,
   "metadata": {},
   "outputs": [],
   "source": [
    "df1 = pd.DataFrame([['a', np.nan], ['b', 5], ['c', 8]], columns=['key1', 'value1'],index=['x','z','y'])\n",
    "                                                     # 创建DataFrame df1\n",
    "df1"
   ]
  },
  {
   "cell_type": "code",
   "execution_count": null,
   "metadata": {},
   "outputs": [],
   "source": [
    "df2 = pd.DataFrame([['a', 100], ['b', 10], ['c', 100]], columns=['key2', 'value2'],index=['x','z','y'])\n",
    "                                                     # 创建DataFrame  df2\n",
    "df2"
   ]
  },
  {
   "cell_type": "code",
   "execution_count": null,
   "metadata": {},
   "outputs": [],
   "source": [
    "pd.concat([df1, df2], axis=1)                   # 进行拼接"
   ]
  },
  {
   "cell_type": "markdown",
   "metadata": {},
   "source": [
    "---\n",
    "\n",
    "### 4.3 数据统计\n"
   ]
  },
  {
   "cell_type": "markdown",
   "metadata": {},
   "source": [
    "#### 4.3.1 Series相关计算"
   ]
  },
  {
   "cell_type": "markdown",
   "metadata": {},
   "source": [
    "##### （155）Series汇总统计\n",
    "利用series.describe方法可以获取当前Series的数据数量，均值，标准差，最大值，最小值，分位数的数据。"
   ]
  },
  {
   "cell_type": "code",
   "execution_count": null,
   "metadata": {},
   "outputs": [],
   "source": [
    "s = pd.Series([1, 2, 3, 4, 5])              # 创建Series\n",
    "\n",
    "s.describe()                                # 汇总统计"
   ]
  },
  {
   "cell_type": "markdown",
   "metadata": {},
   "source": [
    "##### （156）Series统计非NaN值数量\n",
    "利用series.count方法获得Series中非nan值的数据数量。"
   ]
  },
  {
   "cell_type": "code",
   "execution_count": null,
   "metadata": {
    "scrolled": false
   },
   "outputs": [],
   "source": [
    "s = pd.Series([1, 2, 3, 4, 5])              # 创建Series\n",
    "\n",
    "s.count()                                   # 进行数量统计"
   ]
  },
  {
   "cell_type": "markdown",
   "metadata": {},
   "source": [
    "##### （157）Series统计最大值\n",
    "利用series.max方法获得Series中最大值。"
   ]
  },
  {
   "cell_type": "code",
   "execution_count": null,
   "metadata": {},
   "outputs": [],
   "source": [
    "s = pd.Series([1, 2, 3, 4, 5])              # 创建Series\n",
    "\n",
    "s.max()                                     # 获取最大值"
   ]
  },
  {
   "cell_type": "markdown",
   "metadata": {},
   "source": [
    "##### （158）Series统计最小值\n",
    "利用series.min方法获得Series中最小值。"
   ]
  },
  {
   "cell_type": "code",
   "execution_count": null,
   "metadata": {},
   "outputs": [],
   "source": [
    "s = pd.Series([1, 2, 3, 4, 5])              # 创建Series\n",
    "\n",
    "s.min()                                     # 获取最小值"
   ]
  },
  {
   "cell_type": "markdown",
   "metadata": {},
   "source": [
    "##### （159）Series获得最大值索引\n",
    "利用series.argmax方法获得最大值的index。"
   ]
  },
  {
   "cell_type": "code",
   "execution_count": null,
   "metadata": {},
   "outputs": [],
   "source": [
    "s = pd.Series([1, 2, 3, 4, 5], \n",
    "              index=['a','b','c','d','e'])   # 创建Series\n",
    "\n",
    "s.argmax()                                   # 获取最大值index"
   ]
  },
  {
   "cell_type": "markdown",
   "metadata": {},
   "source": [
    "##### （160）Series获得最小值索引\n",
    "利用series.argmin方法获得最小值的index。"
   ]
  },
  {
   "cell_type": "code",
   "execution_count": null,
   "metadata": {},
   "outputs": [],
   "source": [
    "s = pd.Series([1, 2, 3, 4, 5], \n",
    "              index=['a','b','c','d','e'])   # 创建Series\n",
    "\n",
    "s.argmin()                                   # 获取最小值index"
   ]
  },
  {
   "cell_type": "markdown",
   "metadata": {},
   "source": [
    "##### （161）Series获得分位数\n",
    "\n",
    "利用series.quantile方法获得分位数。"
   ]
  },
  {
   "cell_type": "code",
   "execution_count": null,
   "metadata": {},
   "outputs": [],
   "source": [
    "s = pd.Series([1, 2, 3, 4, 5], \n",
    "              index=['a','b','c','d','e'])   # 创建Series\n",
    "\n",
    "s.quantile(0.25)                             # 求分位数"
   ]
  },
  {
   "cell_type": "markdown",
   "metadata": {},
   "source": [
    "##### （162）Series获得总和\n",
    "利用series.sum方法获得总和。"
   ]
  },
  {
   "cell_type": "code",
   "execution_count": null,
   "metadata": {},
   "outputs": [],
   "source": [
    "s = pd.Series([1, 2, 3, 4, 5], \n",
    "              index=['a','b','c','d','e'])   # 创建Series\n",
    "\n",
    "s.sum()                                      # 求和"
   ]
  },
  {
   "cell_type": "markdown",
   "metadata": {},
   "source": [
    "##### （163）Series获得平均值\n",
    "利用series.mean方法获得平均值。"
   ]
  },
  {
   "cell_type": "code",
   "execution_count": null,
   "metadata": {},
   "outputs": [],
   "source": [
    "s = pd.Series([1, 2, 3, 4, 5], \n",
    "              index=['a','b','c','d','e'])   # 创建Series\n",
    "\n",
    "s.mean()                                     # 求平均值"
   ]
  },
  {
   "cell_type": "markdown",
   "metadata": {},
   "source": [
    "##### （164）Series获得算数中位数\n",
    "利用series.median方法获得中位数。"
   ]
  },
  {
   "cell_type": "code",
   "execution_count": null,
   "metadata": {},
   "outputs": [],
   "source": [
    "s = pd.Series([1, 2, 3, 4, 5], \n",
    "              index=['a','b','c','d','e'])   # 创建Series\n",
    "\n",
    "s.median()                                   # 求中位数"
   ]
  },
  {
   "cell_type": "markdown",
   "metadata": {},
   "source": [
    "##### （165）Series获得平均绝对离差\n",
    "利用series.mad方法获得平均绝对离差。"
   ]
  },
  {
   "cell_type": "code",
   "execution_count": null,
   "metadata": {},
   "outputs": [],
   "source": [
    "s = pd.Series([1, 2, 3, 4, 5], \n",
    "              index=['a','b','c','d','e'])   # 创建Series\n",
    "\n",
    "s.mad()                                      # 求平均绝对离差"
   ]
  },
  {
   "cell_type": "markdown",
   "metadata": {},
   "source": [
    "##### （166）Series获得方差\n",
    "利用series.var方法获得方差。"
   ]
  },
  {
   "cell_type": "code",
   "execution_count": null,
   "metadata": {},
   "outputs": [],
   "source": [
    "s = pd.Series([1, 2, 3, 4, 5], \n",
    "              index=['a','b','c','d','e'])   # 创建Series\n",
    "\n",
    "s.var()                                      # 求方差"
   ]
  },
  {
   "cell_type": "markdown",
   "metadata": {},
   "source": [
    "##### （167）Series获得标准差\n",
    "利用series.std方法获得标准差。"
   ]
  },
  {
   "cell_type": "code",
   "execution_count": null,
   "metadata": {},
   "outputs": [],
   "source": [
    "s = pd.Series([1, 2, 3, 4, 5], \n",
    "              index=['a','b','c','d','e'])   # 创建Series\n",
    "\n",
    "s.std()                                      # 求标准差"
   ]
  },
  {
   "cell_type": "markdown",
   "metadata": {},
   "source": [
    "##### （168）Series获得偏度\n",
    "利用series.skew方法获得偏度。"
   ]
  },
  {
   "cell_type": "code",
   "execution_count": null,
   "metadata": {},
   "outputs": [],
   "source": [
    "s = pd.Series([1, 2, 3, 4, 5], \n",
    "              index=['a','b','c','d','e'])   # 创建Series\n",
    "\n",
    "s.skew()                                     # 求偏度"
   ]
  },
  {
   "cell_type": "markdown",
   "metadata": {},
   "source": [
    "##### （169）Series获得峰度\n",
    "利用series.kurt方法获得峰度。"
   ]
  },
  {
   "cell_type": "code",
   "execution_count": null,
   "metadata": {},
   "outputs": [],
   "source": [
    "s = pd.Series([1, 2, 3, 4, 5], \n",
    "              index=['a','b','c','d','e'])   # 创建Series\n",
    "\n",
    "s.kurt()                                     # 求峰度"
   ]
  },
  {
   "cell_type": "markdown",
   "metadata": {},
   "source": [
    "##### （170）Series获得累计和\n",
    "利用series.cumsum方法获得累计和。"
   ]
  },
  {
   "cell_type": "code",
   "execution_count": null,
   "metadata": {
    "scrolled": true
   },
   "outputs": [],
   "source": [
    "s = pd.Series([1, 2, 3, 4, 5], \n",
    "              index=['a','b','c','d','e'])   # 创建Series\n",
    "\n",
    "s.cumsum()                                   # 计算累计和"
   ]
  },
  {
   "cell_type": "markdown",
   "metadata": {},
   "source": [
    "##### （171）Series获得累计最大值\n",
    "利用series.cummax方法获得累计最大值。"
   ]
  },
  {
   "cell_type": "code",
   "execution_count": null,
   "metadata": {},
   "outputs": [],
   "source": [
    "s = pd.Series([1, 2, 3, 4, 5], \n",
    "              index=['a','b','c','d','e'])   # 创建Series\n",
    "\n",
    "s.cummax()                                   # 计算累计最大值"
   ]
  },
  {
   "cell_type": "markdown",
   "metadata": {},
   "source": [
    "##### （172）Series获取累计最小值\n",
    "利用series.cummin方法获得累计最小值。"
   ]
  },
  {
   "cell_type": "code",
   "execution_count": null,
   "metadata": {},
   "outputs": [],
   "source": [
    "s = pd.Series([1, 2, 3, 4, 5], \n",
    "              index=['a','b','c','d','e'])   # 创建Series\n",
    "\n",
    "s.cummin()"
   ]
  },
  {
   "cell_type": "markdown",
   "metadata": {},
   "source": [
    "##### （173）Series获取累计乘积\n",
    "利用series.cumprod方法获得累计乘积。"
   ]
  },
  {
   "cell_type": "code",
   "execution_count": null,
   "metadata": {},
   "outputs": [],
   "source": [
    "s = pd.Series([1, 2, 3, 4, 5], \n",
    "              index=['a','b','c','d','e'])   # 创建Series\n",
    "\n",
    "s.cumprod()                                  # 求累计乘积          "
   ]
  },
  {
   "cell_type": "markdown",
   "metadata": {},
   "source": [
    "##### （174）Series计算一阶差分\n",
    "利用series.diff函数计算一阶差分。"
   ]
  },
  {
   "cell_type": "code",
   "execution_count": null,
   "metadata": {},
   "outputs": [],
   "source": [
    "s = pd.Series([1, 2, 3, 4, 5], \n",
    "              index=['a','b','c','d','e'])   # 创建Series\n",
    "\n",
    "s.diff()                                     # 计算一阶差分"
   ]
  },
  {
   "cell_type": "markdown",
   "metadata": {},
   "source": [
    "##### （175）Series计算百分数变化\n",
    "利用series.pct_change方法计算百分比变化。"
   ]
  },
  {
   "cell_type": "code",
   "execution_count": null,
   "metadata": {},
   "outputs": [],
   "source": [
    "s = pd.Series([1, 2, 3, 4, 5], \n",
    "              index=['a','b','c','d','e'])   # 创建Series\n",
    "\n",
    "s.pct_change()                               # 计算百分比变化"
   ]
  },
  {
   "cell_type": "markdown",
   "metadata": {},
   "source": [
    "##### （176）计算两个series协方差\n",
    "利用series.cov方法计算两个series的协方差。"
   ]
  },
  {
   "cell_type": "code",
   "execution_count": null,
   "metadata": {},
   "outputs": [],
   "source": [
    "s1 = pd.Series([1,2,3,4])                    # 创建series s1\n",
    "s2 = pd.Series([1,2,4,2])                    # 创建series s2"
   ]
  },
  {
   "cell_type": "code",
   "execution_count": null,
   "metadata": {},
   "outputs": [],
   "source": [
    "s1.cov(s2)                                   # 计算协方差"
   ]
  },
  {
   "cell_type": "markdown",
   "metadata": {},
   "source": [
    "##### （177）计算两个Series相关系数\n",
    "利用series.corr方法计算两个series的相关系数。"
   ]
  },
  {
   "cell_type": "code",
   "execution_count": null,
   "metadata": {},
   "outputs": [],
   "source": [
    "s1 = pd.Series([1,2,3,4])                    # 创建series s1\n",
    "s2 = pd.Series([1,2,4,2])                    # 创建series s2"
   ]
  },
  {
   "cell_type": "code",
   "execution_count": null,
   "metadata": {},
   "outputs": [],
   "source": [
    "s1.corr(s2)                                  # 计算相关系数"
   ]
  },
  {
   "cell_type": "markdown",
   "metadata": {},
   "source": [
    "##### （178）Series移动窗口函数使用1\n",
    "利用series.rolling方法获得一个移动窗口进行运算。\n",
    "\n",
    "该方法常用于时间序列处理。"
   ]
  },
  {
   "cell_type": "code",
   "execution_count": null,
   "metadata": {},
   "outputs": [],
   "source": [
    "s = pd.Series([1,2,3,4,2,4,5,3,5,2])         # 创建series"
   ]
  },
  {
   "cell_type": "code",
   "execution_count": null,
   "metadata": {},
   "outputs": [],
   "source": [
    "s.rolling(3).mean()                         # 利用移动窗口计算平均值"
   ]
  },
  {
   "cell_type": "markdown",
   "metadata": {},
   "source": [
    "##### （179）Series移动窗口函数使用2\n",
    "利用series.rolling方法获得一个移动窗口进行运算。  \n",
    "\n",
    "该方法常用于时间序列处理。"
   ]
  },
  {
   "cell_type": "code",
   "execution_count": null,
   "metadata": {},
   "outputs": [],
   "source": [
    "s.rolling(3).apply(np.mean)"
   ]
  },
  {
   "cell_type": "markdown",
   "metadata": {},
   "source": [
    "---\n",
    "\n",
    "##### 4.3.2 DataFrame相关计算"
   ]
  },
  {
   "cell_type": "markdown",
   "metadata": {},
   "source": [
    "##### （180）DataFrame汇总统计\n",
    "\n",
    "利用df.describe方法获得各列的数据数量，平均值，标准差，最小值，分位数，最大值。"
   ]
  },
  {
   "cell_type": "code",
   "execution_count": null,
   "metadata": {},
   "outputs": [],
   "source": [
    "df = pd.DataFrame([[1, 2], [4, 5], [7, 8], [10, 11]], columns=['a', 'b']) \n",
    "                                    # 创建dataframe\n",
    "\n",
    "df.describe()                       # 获得汇总统计"
   ]
  },
  {
   "cell_type": "markdown",
   "metadata": {},
   "source": [
    "##### （181）DataFrame统计非NaN值数量\n",
    "利用df.count方法获得各列（或行）非nan值的数据数量。\n"
   ]
  },
  {
   "cell_type": "code",
   "execution_count": null,
   "metadata": {},
   "outputs": [],
   "source": [
    "df = pd.DataFrame([[1, 2], [4, 5], [7, 8], [10, 11]], columns=['a', 'b']) \n",
    "                                    # 创建dataframe\n",
    "\n",
    "df.count()                          # 计数"
   ]
  },
  {
   "cell_type": "markdown",
   "metadata": {},
   "source": [
    "##### （182）DataFrame统计最大值\n",
    "利用df.max方法获得各列（或行）最大值。"
   ]
  },
  {
   "cell_type": "code",
   "execution_count": null,
   "metadata": {},
   "outputs": [],
   "source": [
    "df = pd.DataFrame([[1, 2], [4, 5], [7, 8], [10, 11]], columns=['a', 'b']) \n",
    "                                    # 创建dataframe\n",
    "    \n",
    "df.max()                            # 求最大值"
   ]
  },
  {
   "cell_type": "markdown",
   "metadata": {},
   "source": [
    "##### （183）DataFrame统计最小值\n",
    "利用df.min方法获得各列（或行）最小值。"
   ]
  },
  {
   "cell_type": "code",
   "execution_count": null,
   "metadata": {},
   "outputs": [],
   "source": [
    "df = pd.DataFrame([[1, 2], [4, 5], [7, 8], [10, 11]], columns=['a', 'b']) \n",
    "                                    # 创建dataframe\n",
    "\n",
    "df.min()                            # 求最小值"
   ]
  },
  {
   "cell_type": "markdown",
   "metadata": {},
   "source": [
    "##### （184）DataFrame获得分位数\n",
    "利用df.quantile方法获得各列（或行）分位数。"
   ]
  },
  {
   "cell_type": "code",
   "execution_count": null,
   "metadata": {},
   "outputs": [],
   "source": [
    "df = pd.DataFrame([[1, 2], [4, 5], [7, 8], [10, 11]], columns=['a', 'b']) \n",
    "                                    # 创建dataframe\n",
    "\n",
    "df.quantile(0.25)                   # 求分位数"
   ]
  },
  {
   "cell_type": "markdown",
   "metadata": {},
   "source": [
    "##### （185）DataFrame获得总和\n",
    "利用df.sum方法获得各列（或行）总和。"
   ]
  },
  {
   "cell_type": "code",
   "execution_count": null,
   "metadata": {},
   "outputs": [],
   "source": [
    "df = pd.DataFrame([[1, 2], [4, 5], [7, 8], [10, 11]], columns=['a', 'b']) \n",
    "                                    # 创建dataframe\n",
    "\n",
    "df.sum()                            # 求总和"
   ]
  },
  {
   "cell_type": "markdown",
   "metadata": {},
   "source": [
    "##### （186）DataFrame获得平均值\n",
    "利用df.mean方法获得各列（或行）平均值。"
   ]
  },
  {
   "cell_type": "code",
   "execution_count": null,
   "metadata": {},
   "outputs": [],
   "source": [
    "df = pd.DataFrame([[1, 2], [4, 5], [7, 8], [10, 11]], columns=['a', 'b']) \n",
    "                                    # 创建dataframe\n",
    "\n",
    "df.mean()                           # 求平均值"
   ]
  },
  {
   "cell_type": "markdown",
   "metadata": {},
   "source": [
    "##### （187）DataFrame获得算数中位数\n",
    "利用df.median方法获得各列（或行）中位数"
   ]
  },
  {
   "cell_type": "code",
   "execution_count": null,
   "metadata": {},
   "outputs": [],
   "source": [
    "df = pd.DataFrame([[1, 2], [4, 5], [7, 8], [10, 11]], columns=['a', 'b']) \n",
    "                                    # 创建dataframe\n",
    "\n",
    "df.median()                         # 求中位数"
   ]
  },
  {
   "cell_type": "markdown",
   "metadata": {},
   "source": [
    "##### （188）DataFrame获得平均绝对离差\n",
    "利用df.mad方法获得各列（或行）平均绝对离差。"
   ]
  },
  {
   "cell_type": "code",
   "execution_count": null,
   "metadata": {},
   "outputs": [],
   "source": [
    "df = pd.DataFrame([[1, 2], [4, 5], [7, 8], [10, 11]], columns=['a', 'b']) \n",
    "                                    # 创建dataframe\n",
    "\n",
    "df.mad()                            # 求平均绝对离差"
   ]
  },
  {
   "cell_type": "markdown",
   "metadata": {},
   "source": [
    "##### （189）DataFrame获得方差\n",
    "利用df.var方法获得各列（或行）方差。"
   ]
  },
  {
   "cell_type": "code",
   "execution_count": null,
   "metadata": {},
   "outputs": [],
   "source": [
    "df = pd.DataFrame([[1, 2], [4, 5], [7, 8], [10, 11]], columns=['a', 'b']) \n",
    "                                    # 创建dataframe\n",
    "\n",
    "df.var()                            # 求方差"
   ]
  },
  {
   "cell_type": "markdown",
   "metadata": {},
   "source": [
    "##### （190）DataFrame获得标准差\n",
    "利用df.std方法获得各列（或行）标准差。"
   ]
  },
  {
   "cell_type": "code",
   "execution_count": null,
   "metadata": {},
   "outputs": [],
   "source": [
    "df = pd.DataFrame([[1, 2], [4, 5], [7, 8], [10, 11]], columns=['a', 'b']) \n",
    "                                    # 创建dataframe\n",
    "\n",
    "df.std()                            # 求标准差"
   ]
  },
  {
   "cell_type": "markdown",
   "metadata": {},
   "source": [
    "##### （191）DataFrame获得偏度\n",
    "利用df.skew方法获得各列（或行）偏度。"
   ]
  },
  {
   "cell_type": "code",
   "execution_count": null,
   "metadata": {},
   "outputs": [],
   "source": [
    "df = pd.DataFrame([[1, 2], [4, 5], [7, 8], [10, 11]], columns=['a', 'b']) \n",
    "                                    # 创建dataframe\n",
    "\n",
    "df.skew()                           # 求偏度"
   ]
  },
  {
   "cell_type": "markdown",
   "metadata": {},
   "source": [
    "##### （192）DataFrame获得峰度\n",
    "利用df.kurt方法获得各列（或行）峰度。"
   ]
  },
  {
   "cell_type": "code",
   "execution_count": null,
   "metadata": {},
   "outputs": [],
   "source": [
    "df = pd.DataFrame([[1, 2], [4, 5], [7, 8], [10, 11]], columns=['a', 'b']) \n",
    "                                    # 创建dataframe\n",
    "\n",
    "df.kurt()                           # 求峰度"
   ]
  },
  {
   "cell_type": "markdown",
   "metadata": {},
   "source": [
    "##### （193）DataFrame获得累计和\n",
    "利用df.cumsum方法获得各列（或行）累计和。"
   ]
  },
  {
   "cell_type": "code",
   "execution_count": null,
   "metadata": {},
   "outputs": [],
   "source": [
    "df = pd.DataFrame([[1, 2], [4, 5], [7, 8], [10, 11]], columns=['a', 'b']) \n",
    "                                    # 创建dataframe\n",
    "\n",
    "df.cumsum()                         # 求累计和"
   ]
  },
  {
   "cell_type": "markdown",
   "metadata": {},
   "source": [
    "##### （194）DataFrame获得累计最大值\n",
    "利用df.cummax方法获得各列（或行）累计最大值。"
   ]
  },
  {
   "cell_type": "code",
   "execution_count": null,
   "metadata": {},
   "outputs": [],
   "source": [
    "df = pd.DataFrame([[1, 2], [4, 5], [7, 8], [10, 11]], columns=['a', 'b']) \n",
    "                                    # 创建dataframe\n",
    "\n",
    "df.cummax()                         # 求累计最大值"
   ]
  },
  {
   "cell_type": "markdown",
   "metadata": {},
   "source": [
    "##### （195）DataFrame获取累计最小值\n",
    "利用df.cummin方法获得各列（或行）累计最小值。"
   ]
  },
  {
   "cell_type": "code",
   "execution_count": null,
   "metadata": {},
   "outputs": [],
   "source": [
    "df = pd.DataFrame([[1, 2], [4, 5], [7, 8], [10, 11]], columns=['a', 'b']) \n",
    "                                    # 创建dataframe\n",
    "\n",
    "df.cummin()                         # 求累计最小值"
   ]
  },
  {
   "cell_type": "markdown",
   "metadata": {},
   "source": [
    "##### （196）DataFrame获取累计乘积\n",
    "利用df.cumprod方法获得各列（或行）的累计乘积。"
   ]
  },
  {
   "cell_type": "code",
   "execution_count": null,
   "metadata": {},
   "outputs": [],
   "source": [
    "df = pd.DataFrame([[1, 2], [4, 5], [7, 8], [10, 11]], columns=['a', 'b']) \n",
    "                                    # 创建dataframe\n",
    "\n",
    "df.cumprod()                        # 求累计乘积"
   ]
  },
  {
   "cell_type": "markdown",
   "metadata": {},
   "source": [
    "##### （197）DataFrame计算百分数变化\n",
    "利用df.pct_change方法获得各列数据的百分比变化。\n",
    "\n",
    "常用参数：\n",
    "periods：用于确定计算百分比变化选定的窗口期数，默认为1"
   ]
  },
  {
   "cell_type": "code",
   "execution_count": null,
   "metadata": {},
   "outputs": [],
   "source": [
    "df = pd.DataFrame([[1, 2], [4, 5], [7, 8], [10, 11]], columns=['a', 'b']) \n",
    "                                    # 创建dataframe\n",
    "\n",
    "df.pct_change(periods=2)            # 求百分比变化"
   ]
  },
  {
   "cell_type": "markdown",
   "metadata": {},
   "source": [
    "##### （198）DataFrame计算各列协方差矩阵\n",
    "利用df.cov方法获得各列数据的协方差矩阵。\n"
   ]
  },
  {
   "cell_type": "code",
   "execution_count": null,
   "metadata": {
    "scrolled": true
   },
   "outputs": [],
   "source": [
    "df = pd.DataFrame([[1, 2], [4, 5], [7, 8], [10, 11]], columns=['a', 'b']) \n",
    "                                    # 创建dataframe\n",
    "\n",
    "df.cov()                            # 求协方差矩阵"
   ]
  },
  {
   "cell_type": "markdown",
   "metadata": {},
   "source": [
    "##### （199）DataFrame计算各列相关系数矩阵\n",
    "利用df.corr方法获得各列数据的相关系数矩阵。"
   ]
  },
  {
   "cell_type": "code",
   "execution_count": null,
   "metadata": {},
   "outputs": [],
   "source": [
    "df = pd.DataFrame([[1, 2], [4, 5], [7, 8], [10, 11]], columns=['a', 'b']) \n",
    "                                    # 创建dataframe\n",
    "\n",
    "df.corr()                           # 求相关系数矩阵"
   ]
  },
  {
   "cell_type": "markdown",
   "metadata": {},
   "source": [
    "##### （200）DataFrame各列分别计算与一个Series之间的相关系数\n",
    "利用df.corrwith方法获得dataframe各列与series数据之间的相关系数。"
   ]
  },
  {
   "cell_type": "code",
   "execution_count": null,
   "metadata": {
    "scrolled": true
   },
   "outputs": [],
   "source": [
    "df = pd.DataFrame([[1, 2], [4, 5], [7, 8], [10, 11]], columns=['a', 'b']) \n",
    "                                    # 创建dataframe\n",
    "s = pd.Series([2,3,6])              # 创建Series\n",
    "\n",
    "df.corrwith(s)                      # 求相关系数"
   ]
  },
  {
   "cell_type": "markdown",
   "metadata": {},
   "source": [
    "##### （201）DataFrame移动窗口函数1\n",
    "利用df.rolling方法获得一个移动窗口进行运算。\n",
    "\n",
    "该方法常用于时间序列处理。"
   ]
  },
  {
   "cell_type": "code",
   "execution_count": null,
   "metadata": {
    "scrolled": true
   },
   "outputs": [],
   "source": [
    "df = pd.DataFrame([[1, 2], [4, 5], [7, 8], [10, 11]], columns=['a', 'b']) \n",
    "                                    # 创建dataframe\n",
    "\n",
    "df.rolling(3).mean()                # 计算移动平均"
   ]
  },
  {
   "cell_type": "markdown",
   "metadata": {},
   "source": [
    "##### （202）DataFrame移动窗口函数1\n",
    "利用df.rolling方法获得一个移动窗口进行运算。\n",
    "\n",
    "该方法常用于时间序列处理。"
   ]
  },
  {
   "cell_type": "code",
   "execution_count": null,
   "metadata": {
    "scrolled": true
   },
   "outputs": [],
   "source": [
    "df = pd.DataFrame([[1, 2], [4, 5], [7, 8], [10, 11]], columns=['a', 'b']) \n",
    "                                    # 创建dataframe\n",
    "\n",
    "df.rolling(3).apply(np.mean)        # 计算移动平均"
   ]
  },
  {
   "cell_type": "markdown",
   "metadata": {},
   "source": [
    "##### （203）DataFrame的Groupby技术1\n",
    "利用df.groupby方法根据某列（或行）对数据进行聚合后进行运算。\n",
    "\n",
    "常用参数：  \n",
    "by：常输入字符串或元素为字符串的列表，选择列index与之相同的列作为聚合依据。"
   ]
  },
  {
   "cell_type": "code",
   "execution_count": null,
   "metadata": {},
   "outputs": [],
   "source": [
    "df = pd.DataFrame([['a',2], ['a',35], ['b',2], ['a',6], ['c',5]], \n",
    "                  columns=['name', 'number'])     \n",
    "                               # 创建dataframe\n",
    "df"
   ]
  },
  {
   "cell_type": "code",
   "execution_count": null,
   "metadata": {},
   "outputs": [],
   "source": [
    "df.groupby('name').mean()         # 分组计算平均值"
   ]
  },
  {
   "cell_type": "markdown",
   "metadata": {},
   "source": [
    "##### （204）DataFrame的Groupby技术1\n",
    "利用df.groupby方法根据某列（或行）对数据进行聚合后进行运算。\n",
    "\n",
    "常用参数：  \n",
    "by：常输入字符串或元素为字符串的列表，选择列index与之相同的列作为聚合依据。"
   ]
  },
  {
   "cell_type": "code",
   "execution_count": null,
   "metadata": {
    "scrolled": true
   },
   "outputs": [],
   "source": [
    "df = pd.DataFrame([['a',2], ['a',35], ['b',2], ['a',6], ['c',5]], \n",
    "                  columns=['name', 'number'])     \n",
    "                               # 创建dataframe\n",
    "df"
   ]
  },
  {
   "cell_type": "code",
   "execution_count": null,
   "metadata": {},
   "outputs": [],
   "source": [
    "df.groupby('name').apply(np.mean)    # 分组计算平均值"
   ]
  },
  {
   "cell_type": "markdown",
   "metadata": {
    "collapsed": true
   },
   "source": [
    "---\n",
    "\n",
    "### 4.4 时间序列处理"
   ]
  },
  {
   "cell_type": "markdown",
   "metadata": {},
   "source": [
    "##### （205）日期字符串转化为datetime\n",
    "利用pd.to_datetime函数将日期字符串转化为Datetimeindex用于作为某DataFrame的index。\n",
    "\n",
    "通过该函数获得的DatetimeIndex为后续时间序列处理做准备。"
   ]
  },
  {
   "cell_type": "code",
   "execution_count": null,
   "metadata": {},
   "outputs": [],
   "source": [
    "pd.to_datetime(['2017-8-1', '2017-8-2'])"
   ]
  },
  {
   "cell_type": "markdown",
   "metadata": {},
   "source": [
    "##### （206）生成指定DatetimeIndex\n",
    "使用pd.date_range函数通过指定时间长度和频率生成DatetimeIndex。\n",
    "\n",
    "常用参数：  \n",
    "start：起始时间  \n",
    "end：结束时间  \n",
    "periods：时间周期数量  \n",
    "freq：时间频率  "
   ]
  },
  {
   "cell_type": "code",
   "execution_count": null,
   "metadata": {},
   "outputs": [],
   "source": [
    "pd.date_range('2017-8-1', periods=5, freq='d')"
   ]
  },
  {
   "cell_type": "markdown",
   "metadata": {},
   "source": [
    "##### （207）生成指定PeriodIndex\n",
    "使用pd.period_range函数生成固定频率的PeriodIndex。\n",
    "\n",
    "常用参数：\n",
    "（参照pd.date_range函数）"
   ]
  },
  {
   "cell_type": "code",
   "execution_count": null,
   "metadata": {},
   "outputs": [],
   "source": [
    "pd.period_range('2017-8-1', periods=5, freq='d')"
   ]
  },
  {
   "cell_type": "markdown",
   "metadata": {},
   "source": [
    "##### （208）时间序列索引\n",
    "可参考DataFrame索引的方式。特别的，时间序列可对较高级时间进行索引，如对日频率时间序列进行月索引。"
   ]
  },
  {
   "cell_type": "code",
   "execution_count": null,
   "metadata": {},
   "outputs": [],
   "source": [
    "s = pd.Series([1, 2, 3, 4, 5])               # 创建被索引对象\n",
    "s.index = pd.date_range('2017-7-29', periods=5)\n",
    "s"
   ]
  },
  {
   "cell_type": "code",
   "execution_count": null,
   "metadata": {},
   "outputs": [],
   "source": [
    "s.loc['2017-7']                              # 索引月级别数据"
   ]
  },
  {
   "cell_type": "markdown",
   "metadata": {},
   "source": [
    "\n",
    "##### （209）转换时间序列频率\n",
    "利用df.resample方法将时间序列转化为指定时间频率的时间序列，通常在之后使用.function完成相关运算，如聚合。\n",
    "\n",
    "常用参数：  \n",
    "rule：指定时间频率  \n"
   ]
  },
  {
   "cell_type": "code",
   "execution_count": null,
   "metadata": {},
   "outputs": [],
   "source": [
    "s = pd.Series(np.random.randn(10))               # 创建被索引对象\n",
    "s.index = pd.date_range('2017-7-25', periods=10)\n",
    "s"
   ]
  },
  {
   "cell_type": "code",
   "execution_count": null,
   "metadata": {},
   "outputs": [],
   "source": [
    "s.resample('M').ohlc()       \n",
    "# 等价于s.resample('M', how='ohlc')"
   ]
  },
  {
   "cell_type": "markdown",
   "metadata": {
    "collapsed": true
   },
   "source": [
    "### 4.5 数据读取与储存"
   ]
  },
  {
   "cell_type": "markdown",
   "metadata": {},
   "source": [
    "##### （210）csv文件读取\n",
    "使用pd.read_csv函数读取csv文件，返回DataFrame或Series。\n",
    "\n",
    "常用参数：  \n",
    "sep：设置读取数据时，分隔一行数据中各个元素的符号，默认为','  \n",
    "header：设置作为列名的行数  \n",
    "names：如果header=None，则通过names进行列名设置  \n",
    "index_col：设置作为index的列  \n",
    "skiprows：跳过某一行不获取数据\n"
   ]
  },
  {
   "cell_type": "markdown",
   "metadata": {},
   "source": [
    "##### （211）excel文件读取\n",
    "\n",
    "使用pd.excel函数读取excel文件，返回DataFrame或Series。\n",
    "\n",
    "常用参数：\n",
    "sheetname:可以通过输入字符串或整数确定将要读取的sheet\n",
    "（其他参数可按照pd.read_csv函数）"
   ]
  },
  {
   "cell_type": "markdown",
   "metadata": {},
   "source": [
    "##### （212）储存为csv文件\n",
    "利用df.to_csv方法将当前DataFrame保存为指定文件。"
   ]
  },
  {
   "cell_type": "code",
   "execution_count": null,
   "metadata": {},
   "outputs": [],
   "source": [
    "df = pd.DataFrame([['a',2], ['a',35], ['b',2], ['a',6], ['c',5]], \n",
    "                  columns=['name', 'number'])     \n",
    "                               # 创建dataframe\n",
    "    \n",
    "df.to_csv('test.txt')"
   ]
  },
  {
   "cell_type": "markdown",
   "metadata": {},
   "source": [
    "##### （213）储存为excel文件\n",
    "利用df.to_excel方法将当前DataFrame保存为指定文件"
   ]
  },
  {
   "cell_type": "code",
   "execution_count": null,
   "metadata": {},
   "outputs": [],
   "source": [
    "df = pd.DataFrame([['a',2], ['a',35], ['b',2], ['a',6], ['c',5]], \n",
    "                  columns=['name', 'number'])     \n",
    "                               # 创建dataframe\n",
    "    \n",
    "df.to_excel('test.xls')"
   ]
  },
  {
   "cell_type": "code",
   "execution_count": null,
   "metadata": {},
   "outputs": [],
   "source": []
  }
 ],
 "metadata": {
  "kernelspec": {
   "display_name": "Python 3",
   "language": "python",
   "name": "python3"
  },
  "language_info": {
   "codemirror_mode": {
    "name": "ipython",
    "version": 3
   },
   "file_extension": ".py",
   "mimetype": "text/x-python",
   "name": "python",
   "nbconvert_exporter": "python",
   "pygments_lexer": "ipython3",
   "version": "3.7.3"
  },
  "toc": {
   "nav_menu": {},
   "number_sections": false,
   "sideBar": false,
   "skip_h1_title": true,
   "toc_cell": false,
   "toc_position": {
    "height": "628px",
    "left": "1363px",
    "right": "1280px",
    "top": "120px",
    "width": "199px"
   },
   "toc_section_display": "block",
   "toc_window_display": true
  }
 },
 "nbformat": 4,
 "nbformat_minor": 2
}
