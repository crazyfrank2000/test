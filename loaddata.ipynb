{
 "cells": [
  {
   "cell_type": "markdown",
   "metadata": {},
   "source": [
    "# 读取数据"
   ]
  },
  {
   "cell_type": "code",
   "execution_count": 2,
   "metadata": {},
   "outputs": [],
   "source": [
    "%matplotlib inline\n",
    "import matplotlib.pyplot as plt\n",
    "import seaborn as sns\n",
    "import matplotlib as mpl\n",
    "import warnings; warnings.simplefilter('ignore') #忽略可能会出现的警告信息，警告并不是错误，可以忽略；"
   ]
  },
  {
   "cell_type": "code",
   "execution_count": 3,
   "metadata": {},
   "outputs": [],
   "source": [
    "import pandas as pd\n",
    "import numpy as np"
   ]
  },
  {
   "cell_type": "markdown",
   "metadata": {},
   "source": [
    "## Quandl 无法注册新用户？"
   ]
  },
  {
   "cell_type": "code",
   "execution_count": 13,
   "metadata": {},
   "outputs": [],
   "source": [
    "import quandl"
   ]
  },
  {
   "cell_type": "code",
   "execution_count": 14,
   "metadata": {},
   "outputs": [],
   "source": [
    "data = quandl.get('EOD/KO',start_date='2019-1-1',end_date='2019-11-30',api_key='GwDcvaV3musaR1DcjfHs')         #api_key =)"
   ]
  },
  {
   "cell_type": "code",
   "execution_count": 15,
   "metadata": {},
   "outputs": [
    {
     "data": {
      "text/html": [
       "<div>\n",
       "<style scoped>\n",
       "    .dataframe tbody tr th:only-of-type {\n",
       "        vertical-align: middle;\n",
       "    }\n",
       "\n",
       "    .dataframe tbody tr th {\n",
       "        vertical-align: top;\n",
       "    }\n",
       "\n",
       "    .dataframe thead th {\n",
       "        text-align: right;\n",
       "    }\n",
       "</style>\n",
       "<table border=\"1\" class=\"dataframe\">\n",
       "  <thead>\n",
       "    <tr style=\"text-align: right;\">\n",
       "      <th></th>\n",
       "      <th>Open</th>\n",
       "      <th>High</th>\n",
       "      <th>Low</th>\n",
       "      <th>Close</th>\n",
       "      <th>Volume</th>\n",
       "      <th>Dividend</th>\n",
       "      <th>Split</th>\n",
       "      <th>Adj_Open</th>\n",
       "      <th>Adj_High</th>\n",
       "      <th>Adj_Low</th>\n",
       "      <th>Adj_Close</th>\n",
       "      <th>Adj_Volume</th>\n",
       "    </tr>\n",
       "    <tr>\n",
       "      <th>Date</th>\n",
       "      <th></th>\n",
       "      <th></th>\n",
       "      <th></th>\n",
       "      <th></th>\n",
       "      <th></th>\n",
       "      <th></th>\n",
       "      <th></th>\n",
       "      <th></th>\n",
       "      <th></th>\n",
       "      <th></th>\n",
       "      <th></th>\n",
       "      <th></th>\n",
       "    </tr>\n",
       "  </thead>\n",
       "  <tbody>\n",
       "  </tbody>\n",
       "</table>\n",
       "</div>"
      ],
      "text/plain": [
       "Empty DataFrame\n",
       "Columns: [Open, High, Low, Close, Volume, Dividend, Split, Adj_Open, Adj_High, Adj_Low, Adj_Close, Adj_Volume]\n",
       "Index: []"
      ]
     },
     "execution_count": 15,
     "metadata": {},
     "output_type": "execute_result"
    }
   ],
   "source": [
    "data.tail()"
   ]
  },
  {
   "cell_type": "markdown",
   "metadata": {},
   "source": [
    "## Tushare Pro"
   ]
  },
  {
   "cell_type": "code",
   "execution_count": 1,
   "metadata": {},
   "outputs": [
    {
     "name": "stdout",
     "output_type": "stream",
     "text": [
      "1.2.48\n"
     ]
    }
   ],
   "source": [
    "import pandas as pd\n",
    "import tushare as ts\n",
    "print(ts.__version__)"
   ]
  },
  {
   "cell_type": "code",
   "execution_count": 2,
   "metadata": {},
   "outputs": [],
   "source": [
    "ts.set_token('db1723bf9e9009f186c134b6813da7730256c87f31759400e170ddab') #set frank's token"
   ]
  },
  {
   "cell_type": "code",
   "execution_count": 3,
   "metadata": {},
   "outputs": [],
   "source": [
    "pro = ts.pro_api()  #init the api"
   ]
  },
  {
   "cell_type": "code",
   "execution_count": 4,
   "metadata": {},
   "outputs": [],
   "source": [
    "df = pro.trade_cal(exchange='', start_date='20190901', end_date='20191201', fields='exchange,cal_date,is_open,pretrade_date', is_open='0')"
   ]
  },
  {
   "cell_type": "code",
   "execution_count": 16,
   "metadata": {},
   "outputs": [],
   "source": [
    "df = pro.daily(ts_code='600030.sh', start_date='20190101', end_date='20191226')"
   ]
  },
  {
   "cell_type": "code",
   "execution_count": 17,
   "metadata": {},
   "outputs": [
    {
     "data": {
      "text/html": [
       "<div>\n",
       "<style scoped>\n",
       "    .dataframe tbody tr th:only-of-type {\n",
       "        vertical-align: middle;\n",
       "    }\n",
       "\n",
       "    .dataframe tbody tr th {\n",
       "        vertical-align: top;\n",
       "    }\n",
       "\n",
       "    .dataframe thead th {\n",
       "        text-align: right;\n",
       "    }\n",
       "</style>\n",
       "<table border=\"1\" class=\"dataframe\">\n",
       "  <thead>\n",
       "    <tr style=\"text-align: right;\">\n",
       "      <th></th>\n",
       "      <th>ts_code</th>\n",
       "      <th>trade_date</th>\n",
       "      <th>open</th>\n",
       "      <th>high</th>\n",
       "      <th>low</th>\n",
       "      <th>close</th>\n",
       "      <th>pre_close</th>\n",
       "      <th>change</th>\n",
       "      <th>pct_chg</th>\n",
       "      <th>vol</th>\n",
       "      <th>amount</th>\n",
       "    </tr>\n",
       "  </thead>\n",
       "  <tbody>\n",
       "    <tr>\n",
       "      <th>229</th>\n",
       "      <td>600030.SH</td>\n",
       "      <td>20190116</td>\n",
       "      <td>17.63</td>\n",
       "      <td>17.75</td>\n",
       "      <td>17.48</td>\n",
       "      <td>17.64</td>\n",
       "      <td>17.60</td>\n",
       "      <td>0.04</td>\n",
       "      <td>0.2273</td>\n",
       "      <td>1104443.69</td>\n",
       "      <td>1945845.696</td>\n",
       "    </tr>\n",
       "    <tr>\n",
       "      <th>230</th>\n",
       "      <td>600030.SH</td>\n",
       "      <td>20190115</td>\n",
       "      <td>17.04</td>\n",
       "      <td>17.72</td>\n",
       "      <td>17.01</td>\n",
       "      <td>17.60</td>\n",
       "      <td>17.00</td>\n",
       "      <td>0.60</td>\n",
       "      <td>3.5294</td>\n",
       "      <td>1805469.95</td>\n",
       "      <td>3152949.475</td>\n",
       "    </tr>\n",
       "    <tr>\n",
       "      <th>231</th>\n",
       "      <td>600030.SH</td>\n",
       "      <td>20190114</td>\n",
       "      <td>17.11</td>\n",
       "      <td>17.26</td>\n",
       "      <td>16.97</td>\n",
       "      <td>17.00</td>\n",
       "      <td>16.97</td>\n",
       "      <td>0.03</td>\n",
       "      <td>0.1768</td>\n",
       "      <td>861108.94</td>\n",
       "      <td>1471577.136</td>\n",
       "    </tr>\n",
       "    <tr>\n",
       "      <th>232</th>\n",
       "      <td>600030.SH</td>\n",
       "      <td>20190111</td>\n",
       "      <td>16.80</td>\n",
       "      <td>17.03</td>\n",
       "      <td>16.74</td>\n",
       "      <td>16.97</td>\n",
       "      <td>16.80</td>\n",
       "      <td>0.17</td>\n",
       "      <td>1.0119</td>\n",
       "      <td>1127695.59</td>\n",
       "      <td>1908024.319</td>\n",
       "    </tr>\n",
       "    <tr>\n",
       "      <th>233</th>\n",
       "      <td>600030.SH</td>\n",
       "      <td>20190110</td>\n",
       "      <td>17.15</td>\n",
       "      <td>17.15</td>\n",
       "      <td>16.75</td>\n",
       "      <td>16.80</td>\n",
       "      <td>16.01</td>\n",
       "      <td>0.79</td>\n",
       "      <td>4.9344</td>\n",
       "      <td>2186844.12</td>\n",
       "      <td>3703434.312</td>\n",
       "    </tr>\n",
       "  </tbody>\n",
       "</table>\n",
       "</div>"
      ],
      "text/plain": [
       "       ts_code trade_date   open   high    low  close  pre_close  change  \\\n",
       "229  600030.SH   20190116  17.63  17.75  17.48  17.64      17.60    0.04   \n",
       "230  600030.SH   20190115  17.04  17.72  17.01  17.60      17.00    0.60   \n",
       "231  600030.SH   20190114  17.11  17.26  16.97  17.00      16.97    0.03   \n",
       "232  600030.SH   20190111  16.80  17.03  16.74  16.97      16.80    0.17   \n",
       "233  600030.SH   20190110  17.15  17.15  16.75  16.80      16.01    0.79   \n",
       "\n",
       "     pct_chg         vol       amount  \n",
       "229   0.2273  1104443.69  1945845.696  \n",
       "230   3.5294  1805469.95  3152949.475  \n",
       "231   0.1768   861108.94  1471577.136  \n",
       "232   1.0119  1127695.59  1908024.319  \n",
       "233   4.9344  2186844.12  3703434.312  "
      ]
     },
     "execution_count": 17,
     "metadata": {},
     "output_type": "execute_result"
    }
   ],
   "source": [
    "df.tail()"
   ]
  },
  {
   "cell_type": "markdown",
   "metadata": {},
   "source": [
    "## Tushare Old version"
   ]
  },
  {
   "cell_type": "code",
   "execution_count": 15,
   "metadata": {},
   "outputs": [],
   "source": [
    "hs300 = ts.get_k_data('hs300',start ='2019-01-01', end = '2019-12-25')    #get_k_data()"
   ]
  },
  {
   "cell_type": "code",
   "execution_count": 16,
   "metadata": {},
   "outputs": [
    {
     "data": {
      "text/html": [
       "<div>\n",
       "<style scoped>\n",
       "    .dataframe tbody tr th:only-of-type {\n",
       "        vertical-align: middle;\n",
       "    }\n",
       "\n",
       "    .dataframe tbody tr th {\n",
       "        vertical-align: top;\n",
       "    }\n",
       "\n",
       "    .dataframe thead th {\n",
       "        text-align: right;\n",
       "    }\n",
       "</style>\n",
       "<table border=\"1\" class=\"dataframe\">\n",
       "  <thead>\n",
       "    <tr style=\"text-align: right;\">\n",
       "      <th></th>\n",
       "      <th>date</th>\n",
       "      <th>open</th>\n",
       "      <th>close</th>\n",
       "      <th>high</th>\n",
       "      <th>low</th>\n",
       "      <th>volume</th>\n",
       "      <th>code</th>\n",
       "    </tr>\n",
       "  </thead>\n",
       "  <tbody>\n",
       "    <tr>\n",
       "      <td>0</td>\n",
       "      <td>2019-01-02</td>\n",
       "      <td>3017.07</td>\n",
       "      <td>2969.54</td>\n",
       "      <td>3018.78</td>\n",
       "      <td>2958.49</td>\n",
       "      <td>68663021.0</td>\n",
       "      <td>hs300</td>\n",
       "    </tr>\n",
       "    <tr>\n",
       "      <td>1</td>\n",
       "      <td>2019-01-03</td>\n",
       "      <td>2963.02</td>\n",
       "      <td>2964.84</td>\n",
       "      <td>3000.44</td>\n",
       "      <td>2953.25</td>\n",
       "      <td>70867103.0</td>\n",
       "      <td>hs300</td>\n",
       "    </tr>\n",
       "    <tr>\n",
       "      <td>2</td>\n",
       "      <td>2019-01-04</td>\n",
       "      <td>2940.19</td>\n",
       "      <td>3035.87</td>\n",
       "      <td>3036.81</td>\n",
       "      <td>2935.83</td>\n",
       "      <td>103318972.0</td>\n",
       "      <td>hs300</td>\n",
       "    </tr>\n",
       "    <tr>\n",
       "      <td>3</td>\n",
       "      <td>2019-01-07</td>\n",
       "      <td>3055.15</td>\n",
       "      <td>3054.30</td>\n",
       "      <td>3061.75</td>\n",
       "      <td>3035.91</td>\n",
       "      <td>101164359.0</td>\n",
       "      <td>hs300</td>\n",
       "    </tr>\n",
       "    <tr>\n",
       "      <td>4</td>\n",
       "      <td>2019-01-08</td>\n",
       "      <td>3049.87</td>\n",
       "      <td>3047.70</td>\n",
       "      <td>3055.51</td>\n",
       "      <td>3038.53</td>\n",
       "      <td>86170585.0</td>\n",
       "      <td>hs300</td>\n",
       "    </tr>\n",
       "  </tbody>\n",
       "</table>\n",
       "</div>"
      ],
      "text/plain": [
       "         date     open    close     high      low       volume   code\n",
       "0  2019-01-02  3017.07  2969.54  3018.78  2958.49   68663021.0  hs300\n",
       "1  2019-01-03  2963.02  2964.84  3000.44  2953.25   70867103.0  hs300\n",
       "2  2019-01-04  2940.19  3035.87  3036.81  2935.83  103318972.0  hs300\n",
       "3  2019-01-07  3055.15  3054.30  3061.75  3035.91  101164359.0  hs300\n",
       "4  2019-01-08  3049.87  3047.70  3055.51  3038.53   86170585.0  hs300"
      ]
     },
     "execution_count": 16,
     "metadata": {},
     "output_type": "execute_result"
    }
   ],
   "source": [
    "hs300.head()"
   ]
  },
  {
   "cell_type": "code",
   "execution_count": 17,
   "metadata": {},
   "outputs": [
    {
     "data": {
      "text/html": [
       "<div>\n",
       "<style scoped>\n",
       "    .dataframe tbody tr th:only-of-type {\n",
       "        vertical-align: middle;\n",
       "    }\n",
       "\n",
       "    .dataframe tbody tr th {\n",
       "        vertical-align: top;\n",
       "    }\n",
       "\n",
       "    .dataframe thead th {\n",
       "        text-align: right;\n",
       "    }\n",
       "</style>\n",
       "<table border=\"1\" class=\"dataframe\">\n",
       "  <thead>\n",
       "    <tr style=\"text-align: right;\">\n",
       "      <th></th>\n",
       "      <th>open</th>\n",
       "      <th>close</th>\n",
       "      <th>high</th>\n",
       "      <th>low</th>\n",
       "      <th>volume</th>\n",
       "      <th>code</th>\n",
       "    </tr>\n",
       "    <tr>\n",
       "      <th>date</th>\n",
       "      <th></th>\n",
       "      <th></th>\n",
       "      <th></th>\n",
       "      <th></th>\n",
       "      <th></th>\n",
       "      <th></th>\n",
       "    </tr>\n",
       "  </thead>\n",
       "  <tbody>\n",
       "    <tr>\n",
       "      <td>2019-01-02</td>\n",
       "      <td>3017.07</td>\n",
       "      <td>2969.54</td>\n",
       "      <td>3018.78</td>\n",
       "      <td>2958.49</td>\n",
       "      <td>68663021.0</td>\n",
       "      <td>hs300</td>\n",
       "    </tr>\n",
       "    <tr>\n",
       "      <td>2019-01-03</td>\n",
       "      <td>2963.02</td>\n",
       "      <td>2964.84</td>\n",
       "      <td>3000.44</td>\n",
       "      <td>2953.25</td>\n",
       "      <td>70867103.0</td>\n",
       "      <td>hs300</td>\n",
       "    </tr>\n",
       "    <tr>\n",
       "      <td>2019-01-04</td>\n",
       "      <td>2940.19</td>\n",
       "      <td>3035.87</td>\n",
       "      <td>3036.81</td>\n",
       "      <td>2935.83</td>\n",
       "      <td>103318972.0</td>\n",
       "      <td>hs300</td>\n",
       "    </tr>\n",
       "    <tr>\n",
       "      <td>2019-01-07</td>\n",
       "      <td>3055.15</td>\n",
       "      <td>3054.30</td>\n",
       "      <td>3061.75</td>\n",
       "      <td>3035.91</td>\n",
       "      <td>101164359.0</td>\n",
       "      <td>hs300</td>\n",
       "    </tr>\n",
       "    <tr>\n",
       "      <td>2019-01-08</td>\n",
       "      <td>3049.87</td>\n",
       "      <td>3047.70</td>\n",
       "      <td>3055.51</td>\n",
       "      <td>3038.53</td>\n",
       "      <td>86170585.0</td>\n",
       "      <td>hs300</td>\n",
       "    </tr>\n",
       "  </tbody>\n",
       "</table>\n",
       "</div>"
      ],
      "text/plain": [
       "               open    close     high      low       volume   code\n",
       "date                                                              \n",
       "2019-01-02  3017.07  2969.54  3018.78  2958.49   68663021.0  hs300\n",
       "2019-01-03  2963.02  2964.84  3000.44  2953.25   70867103.0  hs300\n",
       "2019-01-04  2940.19  3035.87  3036.81  2935.83  103318972.0  hs300\n",
       "2019-01-07  3055.15  3054.30  3061.75  3035.91  101164359.0  hs300\n",
       "2019-01-08  3049.87  3047.70  3055.51  3038.53   86170585.0  hs300"
      ]
     },
     "execution_count": 17,
     "metadata": {},
     "output_type": "execute_result"
    }
   ],
   "source": [
    "hs300.set_index('date', inplace = True)      #pd.set_index(),将df中的某一列设置成为索引；\n",
    "hs300.head()"
   ]
  },
  {
   "cell_type": "code",
   "execution_count": 18,
   "metadata": {},
   "outputs": [
    {
     "data": {
      "text/plain": [
       "<matplotlib.axes._subplots.AxesSubplot at 0x1a21bfe310>"
      ]
     },
     "execution_count": 18,
     "metadata": {},
     "output_type": "execute_result"
    },
    {
     "data": {
      "image/png": "[encoded data removed]",
      "text/plain": [
       "<Figure size 720x432 with 1 Axes>"
      ]
     },
     "metadata": {
      "needs_background": "light"
     },
     "output_type": "display_data"
    }
   ],
   "source": [
    "hs300['close'].plot(figsize=(10, 6))"
   ]
  },
  {
   "cell_type": "code",
   "execution_count": 22,
   "metadata": {},
   "outputs": [
    {
     "data": {
      "text/html": [
       "<div>\n",
       "<style scoped>\n",
       "    .dataframe tbody tr th:only-of-type {\n",
       "        vertical-align: middle;\n",
       "    }\n",
       "\n",
       "    .dataframe tbody tr th {\n",
       "        vertical-align: top;\n",
       "    }\n",
       "\n",
       "    .dataframe thead th {\n",
       "        text-align: right;\n",
       "    }\n",
       "</style>\n",
       "<table border=\"1\" class=\"dataframe\">\n",
       "  <thead>\n",
       "    <tr style=\"text-align: right;\">\n",
       "      <th></th>\n",
       "      <th>date</th>\n",
       "      <th>open</th>\n",
       "      <th>close</th>\n",
       "      <th>high</th>\n",
       "      <th>low</th>\n",
       "      <th>volume</th>\n",
       "      <th>code</th>\n",
       "    </tr>\n",
       "  </thead>\n",
       "  <tbody>\n",
       "    <tr>\n",
       "      <td>235</td>\n",
       "      <td>2019-12-19</td>\n",
       "      <td>17.31</td>\n",
       "      <td>16.80</td>\n",
       "      <td>17.31</td>\n",
       "      <td>16.35</td>\n",
       "      <td>573500.0</td>\n",
       "      <td>002156</td>\n",
       "    </tr>\n",
       "    <tr>\n",
       "      <td>236</td>\n",
       "      <td>2019-12-20</td>\n",
       "      <td>16.71</td>\n",
       "      <td>16.68</td>\n",
       "      <td>17.09</td>\n",
       "      <td>16.50</td>\n",
       "      <td>373127.0</td>\n",
       "      <td>002156</td>\n",
       "    </tr>\n",
       "    <tr>\n",
       "      <td>237</td>\n",
       "      <td>2019-12-23</td>\n",
       "      <td>15.92</td>\n",
       "      <td>15.58</td>\n",
       "      <td>16.15</td>\n",
       "      <td>15.36</td>\n",
       "      <td>543714.0</td>\n",
       "      <td>002156</td>\n",
       "    </tr>\n",
       "    <tr>\n",
       "      <td>238</td>\n",
       "      <td>2019-12-24</td>\n",
       "      <td>15.79</td>\n",
       "      <td>16.46</td>\n",
       "      <td>16.62</td>\n",
       "      <td>15.51</td>\n",
       "      <td>435007.0</td>\n",
       "      <td>002156</td>\n",
       "    </tr>\n",
       "    <tr>\n",
       "      <td>239</td>\n",
       "      <td>2019-12-25</td>\n",
       "      <td>16.55</td>\n",
       "      <td>17.58</td>\n",
       "      <td>17.86</td>\n",
       "      <td>16.38</td>\n",
       "      <td>547613.0</td>\n",
       "      <td>002156</td>\n",
       "    </tr>\n",
       "  </tbody>\n",
       "</table>\n",
       "</div>"
      ],
      "text/plain": [
       "           date   open  close   high    low    volume    code\n",
       "235  2019-12-19  17.31  16.80  17.31  16.35  573500.0  002156\n",
       "236  2019-12-20  16.71  16.68  17.09  16.50  373127.0  002156\n",
       "237  2019-12-23  15.92  15.58  16.15  15.36  543714.0  002156\n",
       "238  2019-12-24  15.79  16.46  16.62  15.51  435007.0  002156\n",
       "239  2019-12-25  16.55  17.58  17.86  16.38  547613.0  002156"
      ]
     },
     "execution_count": 22,
     "metadata": {},
     "output_type": "execute_result"
    }
   ],
   "source": [
    "ft_data = ts.get_k_data('002156',start ='2019-01-01', end = '2019-12-26') #默认前复权价格；\n",
    "ft_data.tail()"
   ]
  },
  {
   "cell_type": "code",
   "execution_count": 23,
   "metadata": {},
   "outputs": [
    {
     "data": {
      "text/plain": [
       "<matplotlib.axes._subplots.AxesSubplot at 0x1a21c2c650>"
      ]
     },
     "execution_count": 23,
     "metadata": {},
     "output_type": "execute_result"
    },
    {
     "data": {
      "image/png": "[encoded data removed]",
      "text/plain": [
       "<Figure size 720x432 with 1 Axes>"
      ]
     },
     "metadata": {
      "needs_background": "light"
     },
     "output_type": "display_data"
    }
   ],
   "source": [
    "ft_data['close'].plot(figsize=(10,6))"
   ]
  },
  {
   "cell_type": "code",
   "execution_count": null,
   "metadata": {},
   "outputs": [],
   "source": []
  }
 ],
 "metadata": {
  "kernelspec": {
   "display_name": "Python 3",
   "language": "python",
   "name": "python3"
  },
  "language_info": {
   "codemirror_mode": {
    "name": "ipython",
    "version": 3
   },
   "file_extension": ".py",
   "mimetype": "text/x-python",
   "name": "python",
   "nbconvert_exporter": "python",
   "pygments_lexer": "ipython3",
   "version": "3.7.3"
  }
 },
 "nbformat": 4,
 "nbformat_minor": 2
}
